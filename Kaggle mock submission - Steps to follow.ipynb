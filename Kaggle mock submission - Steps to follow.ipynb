{
 "cells": [
  {
   "cell_type": "code",
   "execution_count": 185,
   "metadata": {},
   "outputs": [],
   "source": [
    "from pycaret.regression import *"
   ]
  },
  {
   "cell_type": "code",
   "execution_count": 186,
   "metadata": {},
   "outputs": [],
   "source": [
    "import pandas as pd\n",
    "from sklearn.model_selection import train_test_split\n",
    "from sklearn.svm import SVR\n",
    "from sklearn import preprocessing\n",
    "from sklearn.preprocessing import StandardScaler\n",
    "from sklearn.preprocessing import MinMaxScaler\n",
    "from sklearn.model_selection import train_test_split\n",
    "from sklearn.model_selection import GridSearchCV\n",
    "from sklearn.linear_model import LinearRegression\n",
    "from sklearn.ensemble import RandomForestClassifier\n",
    "import statsmodels.api as sm\n",
    "from statsmodels.graphics.tsaplots import plot_acf, plot_pacf\n",
    "from statsmodels.tsa.arima.model import ARIMA\n",
    "from statsmodels.tsa.seasonal import seasonal_decompose\n",
    "from statsmodels.tsa.api import SimpleExpSmoothing\n",
    "from statsmodels.tsa.stattools import adfuller\n",
    "from sklearn.metrics import accuracy_score, precision_score, f1_score, recall_score\n",
    "import pickle\n",
    "import os\n",
    "from sys import platform\n",
    "\n",
    "import numpy as np\n",
    "import seaborn as sns\n",
    "from matplotlib import pyplot as plt\n",
    "from matplotlib import cm\n",
    "%matplotlib inline\n",
    "%config Inlinebackend.figure_format = 'retina'\n",
    "sns.set_context(\"poster\")\n",
    "sns.set(rc={\"figure.figsize\": (15.,8.)})\n",
    "sns.set_style(\"whitegrid\")"
   ]
  },
  {
   "cell_type": "code",
   "execution_count": 187,
   "metadata": {},
   "outputs": [],
   "source": [
    "import pycaret"
   ]
  },
  {
   "cell_type": "code",
   "execution_count": 188,
   "metadata": {},
   "outputs": [],
   "source": [
    "import scipy"
   ]
  },
  {
   "cell_type": "markdown",
   "metadata": {},
   "source": [
    "# Instructions"
   ]
  },
  {
   "cell_type": "markdown",
   "metadata": {},
   "source": [
    "1. Load the `train.csv` file\n",
    "2. Explore the data, understand it\n",
    "3. Process it for future training\n",
    "4. Do train, test, split for your `train.csv` file\n",
    "5. `fit/train` a model from your cleaned_train_df\n",
    "-----\n",
    "5. Load the `train.csv` file\n",
    "6. Apply the same processing you did to `train.csv` into `test.csv`\n",
    "7. `predict` the price for that file\n",
    "8. Only keep the columns you need\n",
    "9. Export\n",
    "-----\n",
    "10. Repeat! 🚀🔥"
   ]
  },
  {
   "cell_type": "markdown",
   "metadata": {},
   "source": [
    "# Import the csv files"
   ]
  },
  {
   "cell_type": "code",
   "execution_count": 189,
   "metadata": {},
   "outputs": [
    {
     "data": {
      "text/plain": [
       "'C:\\\\Users\\\\Edgard_Cuadra\\\\OneDrive\\\\Desktop\\\\Ironhack\\\\Teachers_Notes\\\\lectures - Copy\\\\week-7'"
      ]
     },
     "execution_count": 189,
     "metadata": {},
     "output_type": "execute_result"
    }
   ],
   "source": [
    "pwd"
   ]
  },
  {
   "cell_type": "code",
   "execution_count": 190,
   "metadata": {},
   "outputs": [],
   "source": [
    "df_train = pd.read_csv(\".\\\\diamonds-databcn0722\\\\train.csv\")\n",
    "df_test = pd.read_csv(\".\\\\diamonds-databcn0722\\\\test.csv\")"
   ]
  },
  {
   "cell_type": "code",
   "execution_count": 191,
   "metadata": {},
   "outputs": [
    {
     "name": "stdout",
     "output_type": "stream",
     "text": [
      "40455\n"
     ]
    },
    {
     "data": {
      "text/html": [
       "<div>\n",
       "<style scoped>\n",
       "    .dataframe tbody tr th:only-of-type {\n",
       "        vertical-align: middle;\n",
       "    }\n",
       "\n",
       "    .dataframe tbody tr th {\n",
       "        vertical-align: top;\n",
       "    }\n",
       "\n",
       "    .dataframe thead th {\n",
       "        text-align: right;\n",
       "    }\n",
       "</style>\n",
       "<table border=\"1\" class=\"dataframe\">\n",
       "  <thead>\n",
       "    <tr style=\"text-align: right;\">\n",
       "      <th></th>\n",
       "      <th>id</th>\n",
       "      <th>carat</th>\n",
       "      <th>cut</th>\n",
       "      <th>color</th>\n",
       "      <th>clarity</th>\n",
       "      <th>depth</th>\n",
       "      <th>table</th>\n",
       "      <th>x</th>\n",
       "      <th>y</th>\n",
       "      <th>z</th>\n",
       "      <th>price</th>\n",
       "    </tr>\n",
       "  </thead>\n",
       "  <tbody>\n",
       "    <tr>\n",
       "      <th>15843</th>\n",
       "      <td>15843</td>\n",
       "      <td>0.35</td>\n",
       "      <td>Premium</td>\n",
       "      <td>E</td>\n",
       "      <td>SI1</td>\n",
       "      <td>61.2</td>\n",
       "      <td>58.0</td>\n",
       "      <td>4.59</td>\n",
       "      <td>4.53</td>\n",
       "      <td>2.79</td>\n",
       "      <td>6.669</td>\n",
       "    </tr>\n",
       "    <tr>\n",
       "      <th>10392</th>\n",
       "      <td>10392</td>\n",
       "      <td>1.04</td>\n",
       "      <td>Ideal</td>\n",
       "      <td>H</td>\n",
       "      <td>VS1</td>\n",
       "      <td>62.7</td>\n",
       "      <td>55.0</td>\n",
       "      <td>6.43</td>\n",
       "      <td>6.49</td>\n",
       "      <td>4.05</td>\n",
       "      <td>8.626</td>\n",
       "    </tr>\n",
       "    <tr>\n",
       "      <th>29233</th>\n",
       "      <td>29233</td>\n",
       "      <td>0.70</td>\n",
       "      <td>Ideal</td>\n",
       "      <td>E</td>\n",
       "      <td>VS2</td>\n",
       "      <td>61.3</td>\n",
       "      <td>57.0</td>\n",
       "      <td>5.73</td>\n",
       "      <td>5.75</td>\n",
       "      <td>3.52</td>\n",
       "      <td>8.162</td>\n",
       "    </tr>\n",
       "    <tr>\n",
       "      <th>18358</th>\n",
       "      <td>18358</td>\n",
       "      <td>1.43</td>\n",
       "      <td>Ideal</td>\n",
       "      <td>H</td>\n",
       "      <td>VVS2</td>\n",
       "      <td>61.6</td>\n",
       "      <td>54.0</td>\n",
       "      <td>7.25</td>\n",
       "      <td>7.29</td>\n",
       "      <td>4.48</td>\n",
       "      <td>9.223</td>\n",
       "    </tr>\n",
       "    <tr>\n",
       "      <th>7923</th>\n",
       "      <td>7923</td>\n",
       "      <td>1.20</td>\n",
       "      <td>Very Good</td>\n",
       "      <td>J</td>\n",
       "      <td>SI2</td>\n",
       "      <td>61.8</td>\n",
       "      <td>60.0</td>\n",
       "      <td>6.76</td>\n",
       "      <td>6.83</td>\n",
       "      <td>4.20</td>\n",
       "      <td>8.429</td>\n",
       "    </tr>\n",
       "  </tbody>\n",
       "</table>\n",
       "</div>"
      ],
      "text/plain": [
       "          id  carat        cut color clarity  depth  table     x     y     z  \\\n",
       "15843  15843   0.35    Premium     E     SI1   61.2   58.0  4.59  4.53  2.79   \n",
       "10392  10392   1.04      Ideal     H     VS1   62.7   55.0  6.43  6.49  4.05   \n",
       "29233  29233   0.70      Ideal     E     VS2   61.3   57.0  5.73  5.75  3.52   \n",
       "18358  18358   1.43      Ideal     H    VVS2   61.6   54.0  7.25  7.29  4.48   \n",
       "7923    7923   1.20  Very Good     J     SI2   61.8   60.0  6.76  6.83  4.20   \n",
       "\n",
       "       price  \n",
       "15843  6.669  \n",
       "10392  8.626  \n",
       "29233  8.162  \n",
       "18358  9.223  \n",
       "7923   8.429  "
      ]
     },
     "execution_count": 191,
     "metadata": {},
     "output_type": "execute_result"
    }
   ],
   "source": [
    "print(df_train.shape[0])\n",
    "df_train.sample(5)"
   ]
  },
  {
   "cell_type": "markdown",
   "metadata": {},
   "source": [
    "Dependent_Variables = ['price']"
   ]
  },
  {
   "cell_type": "markdown",
   "metadata": {},
   "source": [
    "Independent_Variables = ['id', 'carat', 'cut', 'color','clarity', 'depth',\n",
    "                         'table', 'x', 'y', 'z', 'price']"
   ]
  },
  {
   "cell_type": "code",
   "execution_count": 192,
   "metadata": {},
   "outputs": [],
   "source": [
    "# we need to transform both tables, the Train CVS and the Test CVS"
   ]
  },
  {
   "cell_type": "code",
   "execution_count": 193,
   "metadata": {},
   "outputs": [],
   "source": [
    "df_train.drop(\"id\", axis = 1, inplace = True)"
   ]
  },
  {
   "cell_type": "code",
   "execution_count": 194,
   "metadata": {},
   "outputs": [],
   "source": [
    "df_test.drop(\"id\", axis = 1, inplace = True)"
   ]
  },
  {
   "cell_type": "code",
   "execution_count": 195,
   "metadata": {},
   "outputs": [
    {
     "data": {
      "text/plain": [
       "Index(['carat', 'cut', 'color', 'clarity', 'depth', 'table', 'x', 'y', 'z',\n",
       "       'price'],\n",
       "      dtype='object')"
      ]
     },
     "execution_count": 195,
     "metadata": {},
     "output_type": "execute_result"
    }
   ],
   "source": [
    "df_train.columns"
   ]
  },
  {
   "cell_type": "code",
   "execution_count": 196,
   "metadata": {},
   "outputs": [],
   "source": [
    "# variables que debemos pasar a dummines"
   ]
  },
  {
   "cell_type": "code",
   "execution_count": 197,
   "metadata": {},
   "outputs": [
    {
     "data": {
      "text/plain": [
       "array(['Premium', 'Ideal', 'Very Good', 'Fair', 'Good'], dtype=object)"
      ]
     },
     "execution_count": 197,
     "metadata": {},
     "output_type": "execute_result"
    }
   ],
   "source": [
    "df_train.cut.unique()"
   ]
  },
  {
   "cell_type": "markdown",
   "metadata": {},
   "source": [
    "# Cleaning, processing, feature selection, etc"
   ]
  },
  {
   "cell_type": "markdown",
   "metadata": {},
   "source": [
    "### Cut"
   ]
  },
  {
   "cell_type": "code",
   "execution_count": 198,
   "metadata": {},
   "outputs": [],
   "source": [
    "cut_value = {\n",
    "    'Premium':4, \n",
    "    'Ideal':5, \n",
    "    'Very Good':3, \n",
    "    'Fair':1, \n",
    "    'Good':2    \n",
    "}"
   ]
  },
  {
   "cell_type": "code",
   "execution_count": 199,
   "metadata": {},
   "outputs": [],
   "source": [
    "df_train[\"cut\"] = df_train.cut.apply(lambda x: cut_value[x] )"
   ]
  },
  {
   "cell_type": "code",
   "execution_count": 200,
   "metadata": {},
   "outputs": [],
   "source": [
    "df_test[\"cut\"] = df_test.cut.apply(lambda x: cut_value[x] )"
   ]
  },
  {
   "cell_type": "markdown",
   "metadata": {},
   "source": [
    "### Color"
   ]
  },
  {
   "cell_type": "code",
   "execution_count": 201,
   "metadata": {},
   "outputs": [
    {
     "data": {
      "text/plain": [
       "array(['D', 'E', 'F', 'G', 'H', 'I', 'J'], dtype=object)"
      ]
     },
     "execution_count": 201,
     "metadata": {},
     "output_type": "execute_result"
    }
   ],
   "source": [
    "df_train.color.unique()"
   ]
  },
  {
   "cell_type": "code",
   "execution_count": 202,
   "metadata": {},
   "outputs": [],
   "source": [
    "color_value = {\n",
    "    'D':7, \n",
    "    'E':6, \n",
    "    'F':5, \n",
    "    'G':4, \n",
    "    'H':3, \n",
    "    'I':2, \n",
    "    'J':1\n",
    "}"
   ]
  },
  {
   "cell_type": "code",
   "execution_count": 203,
   "metadata": {},
   "outputs": [],
   "source": [
    "df_train[\"color\"] = df_train.color.apply(lambda x: color_value[x] )"
   ]
  },
  {
   "cell_type": "code",
   "execution_count": 204,
   "metadata": {},
   "outputs": [],
   "source": [
    "df_test[\"color\"] = df_test.color.apply(lambda x: color_value[x] )"
   ]
  },
  {
   "cell_type": "markdown",
   "metadata": {},
   "source": [
    "### Clarity"
   ]
  },
  {
   "cell_type": "code",
   "execution_count": 205,
   "metadata": {},
   "outputs": [
    {
     "data": {
      "text/plain": [
       "array(['SI2', 'VVS2', 'VS2', 'VS1', 'SI1', 'VVS1', 'IF', 'I1'],\n",
       "      dtype=object)"
      ]
     },
     "execution_count": 205,
     "metadata": {},
     "output_type": "execute_result"
    }
   ],
   "source": [
    "df_train.clarity.unique()"
   ]
  },
  {
   "cell_type": "code",
   "execution_count": 206,
   "metadata": {},
   "outputs": [],
   "source": [
    "clarity_value = {\n",
    "    'SI2':2,\n",
    "    'VVS2':6, \n",
    "    'VS2':4,\n",
    "    'VS1':5,\n",
    "    'SI1':3,\n",
    "    'VVS1':7,\n",
    "    'IF':8,\n",
    "    'I1':1    \n",
    "}"
   ]
  },
  {
   "cell_type": "code",
   "execution_count": 207,
   "metadata": {},
   "outputs": [],
   "source": [
    "df_train[\"clarity\"] = df_train.clarity.apply(lambda x: clarity_value[x] )"
   ]
  },
  {
   "cell_type": "code",
   "execution_count": 208,
   "metadata": {},
   "outputs": [],
   "source": [
    "df_test[\"clarity\"] = df_test.clarity.apply(lambda x: clarity_value[x] )"
   ]
  },
  {
   "cell_type": "code",
   "execution_count": 209,
   "metadata": {},
   "outputs": [
    {
     "data": {
      "text/html": [
       "<div>\n",
       "<style scoped>\n",
       "    .dataframe tbody tr th:only-of-type {\n",
       "        vertical-align: middle;\n",
       "    }\n",
       "\n",
       "    .dataframe tbody tr th {\n",
       "        vertical-align: top;\n",
       "    }\n",
       "\n",
       "    .dataframe thead th {\n",
       "        text-align: right;\n",
       "    }\n",
       "</style>\n",
       "<table border=\"1\" class=\"dataframe\">\n",
       "  <thead>\n",
       "    <tr style=\"text-align: right;\">\n",
       "      <th></th>\n",
       "      <th>carat</th>\n",
       "      <th>cut</th>\n",
       "      <th>color</th>\n",
       "      <th>clarity</th>\n",
       "      <th>depth</th>\n",
       "      <th>table</th>\n",
       "      <th>x</th>\n",
       "      <th>y</th>\n",
       "      <th>z</th>\n",
       "      <th>price</th>\n",
       "    </tr>\n",
       "  </thead>\n",
       "  <tbody>\n",
       "    <tr>\n",
       "      <th>8320</th>\n",
       "      <td>0.71</td>\n",
       "      <td>5</td>\n",
       "      <td>6</td>\n",
       "      <td>5</td>\n",
       "      <td>61.8</td>\n",
       "      <td>55.0</td>\n",
       "      <td>5.72</td>\n",
       "      <td>5.77</td>\n",
       "      <td>3.55</td>\n",
       "      <td>8.111</td>\n",
       "    </tr>\n",
       "    <tr>\n",
       "      <th>27150</th>\n",
       "      <td>0.35</td>\n",
       "      <td>5</td>\n",
       "      <td>5</td>\n",
       "      <td>3</td>\n",
       "      <td>62.5</td>\n",
       "      <td>54.0</td>\n",
       "      <td>4.50</td>\n",
       "      <td>4.52</td>\n",
       "      <td>2.82</td>\n",
       "      <td>6.368</td>\n",
       "    </tr>\n",
       "    <tr>\n",
       "      <th>8214</th>\n",
       "      <td>0.52</td>\n",
       "      <td>5</td>\n",
       "      <td>4</td>\n",
       "      <td>6</td>\n",
       "      <td>61.9</td>\n",
       "      <td>55.0</td>\n",
       "      <td>5.14</td>\n",
       "      <td>5.16</td>\n",
       "      <td>3.19</td>\n",
       "      <td>7.555</td>\n",
       "    </tr>\n",
       "    <tr>\n",
       "      <th>8830</th>\n",
       "      <td>0.73</td>\n",
       "      <td>5</td>\n",
       "      <td>7</td>\n",
       "      <td>4</td>\n",
       "      <td>62.6</td>\n",
       "      <td>55.0</td>\n",
       "      <td>5.71</td>\n",
       "      <td>5.76</td>\n",
       "      <td>3.59</td>\n",
       "      <td>8.226</td>\n",
       "    </tr>\n",
       "    <tr>\n",
       "      <th>24330</th>\n",
       "      <td>0.51</td>\n",
       "      <td>5</td>\n",
       "      <td>4</td>\n",
       "      <td>6</td>\n",
       "      <td>61.6</td>\n",
       "      <td>56.0</td>\n",
       "      <td>5.12</td>\n",
       "      <td>5.14</td>\n",
       "      <td>3.16</td>\n",
       "      <td>7.510</td>\n",
       "    </tr>\n",
       "  </tbody>\n",
       "</table>\n",
       "</div>"
      ],
      "text/plain": [
       "       carat  cut  color  clarity  depth  table     x     y     z  price\n",
       "8320    0.71    5      6        5   61.8   55.0  5.72  5.77  3.55  8.111\n",
       "27150   0.35    5      5        3   62.5   54.0  4.50  4.52  2.82  6.368\n",
       "8214    0.52    5      4        6   61.9   55.0  5.14  5.16  3.19  7.555\n",
       "8830    0.73    5      7        4   62.6   55.0  5.71  5.76  3.59  8.226\n",
       "24330   0.51    5      4        6   61.6   56.0  5.12  5.14  3.16  7.510"
      ]
     },
     "execution_count": 209,
     "metadata": {},
     "output_type": "execute_result"
    }
   ],
   "source": [
    "df_train.sample(5)"
   ]
  },
  {
   "cell_type": "code",
   "execution_count": 210,
   "metadata": {},
   "outputs": [
    {
     "data": {
      "text/html": [
       "<div>\n",
       "<style scoped>\n",
       "    .dataframe tbody tr th:only-of-type {\n",
       "        vertical-align: middle;\n",
       "    }\n",
       "\n",
       "    .dataframe tbody tr th {\n",
       "        vertical-align: top;\n",
       "    }\n",
       "\n",
       "    .dataframe thead th {\n",
       "        text-align: right;\n",
       "    }\n",
       "</style>\n",
       "<table border=\"1\" class=\"dataframe\">\n",
       "  <thead>\n",
       "    <tr style=\"text-align: right;\">\n",
       "      <th></th>\n",
       "      <th>carat</th>\n",
       "      <th>cut</th>\n",
       "      <th>color</th>\n",
       "      <th>clarity</th>\n",
       "      <th>depth</th>\n",
       "      <th>table</th>\n",
       "      <th>x</th>\n",
       "      <th>y</th>\n",
       "      <th>z</th>\n",
       "      <th>price</th>\n",
       "    </tr>\n",
       "  </thead>\n",
       "  <tbody>\n",
       "    <tr>\n",
       "      <th>carat</th>\n",
       "      <td>1.000000</td>\n",
       "      <td>-0.131069</td>\n",
       "      <td>-0.293307</td>\n",
       "      <td>-0.353255</td>\n",
       "      <td>0.023585</td>\n",
       "      <td>0.185478</td>\n",
       "      <td>0.974648</td>\n",
       "      <td>0.944419</td>\n",
       "      <td>0.947469</td>\n",
       "      <td>0.920064</td>\n",
       "    </tr>\n",
       "    <tr>\n",
       "      <th>cut</th>\n",
       "      <td>-0.131069</td>\n",
       "      <td>1.000000</td>\n",
       "      <td>0.017590</td>\n",
       "      <td>0.188554</td>\n",
       "      <td>-0.215352</td>\n",
       "      <td>-0.431195</td>\n",
       "      <td>-0.122895</td>\n",
       "      <td>-0.117832</td>\n",
       "      <td>-0.145396</td>\n",
       "      <td>-0.084878</td>\n",
       "    </tr>\n",
       "    <tr>\n",
       "      <th>color</th>\n",
       "      <td>-0.293307</td>\n",
       "      <td>0.017590</td>\n",
       "      <td>1.000000</td>\n",
       "      <td>-0.023444</td>\n",
       "      <td>-0.047839</td>\n",
       "      <td>-0.028516</td>\n",
       "      <td>-0.272222</td>\n",
       "      <td>-0.263498</td>\n",
       "      <td>-0.268702</td>\n",
       "      <td>-0.157426</td>\n",
       "    </tr>\n",
       "    <tr>\n",
       "      <th>clarity</th>\n",
       "      <td>-0.353255</td>\n",
       "      <td>0.188554</td>\n",
       "      <td>-0.023444</td>\n",
       "      <td>1.000000</td>\n",
       "      <td>-0.066904</td>\n",
       "      <td>-0.161419</td>\n",
       "      <td>-0.371745</td>\n",
       "      <td>-0.355509</td>\n",
       "      <td>-0.364293</td>\n",
       "      <td>-0.213649</td>\n",
       "    </tr>\n",
       "    <tr>\n",
       "      <th>depth</th>\n",
       "      <td>0.023585</td>\n",
       "      <td>-0.215352</td>\n",
       "      <td>-0.047839</td>\n",
       "      <td>-0.066904</td>\n",
       "      <td>1.000000</td>\n",
       "      <td>-0.299203</td>\n",
       "      <td>-0.029867</td>\n",
       "      <td>-0.033960</td>\n",
       "      <td>0.089474</td>\n",
       "      <td>-0.003292</td>\n",
       "    </tr>\n",
       "    <tr>\n",
       "      <th>table</th>\n",
       "      <td>0.185478</td>\n",
       "      <td>-0.431195</td>\n",
       "      <td>-0.028516</td>\n",
       "      <td>-0.161419</td>\n",
       "      <td>-0.299203</td>\n",
       "      <td>1.000000</td>\n",
       "      <td>0.200374</td>\n",
       "      <td>0.186788</td>\n",
       "      <td>0.153726</td>\n",
       "      <td>0.162804</td>\n",
       "    </tr>\n",
       "    <tr>\n",
       "      <th>x</th>\n",
       "      <td>0.974648</td>\n",
       "      <td>-0.122895</td>\n",
       "      <td>-0.272222</td>\n",
       "      <td>-0.371745</td>\n",
       "      <td>-0.029867</td>\n",
       "      <td>0.200374</td>\n",
       "      <td>1.000000</td>\n",
       "      <td>0.967315</td>\n",
       "      <td>0.965496</td>\n",
       "      <td>0.957668</td>\n",
       "    </tr>\n",
       "    <tr>\n",
       "      <th>y</th>\n",
       "      <td>0.944419</td>\n",
       "      <td>-0.117832</td>\n",
       "      <td>-0.263498</td>\n",
       "      <td>-0.355509</td>\n",
       "      <td>-0.033960</td>\n",
       "      <td>0.186788</td>\n",
       "      <td>0.967315</td>\n",
       "      <td>1.000000</td>\n",
       "      <td>0.941176</td>\n",
       "      <td>0.928909</td>\n",
       "    </tr>\n",
       "    <tr>\n",
       "      <th>z</th>\n",
       "      <td>0.947469</td>\n",
       "      <td>-0.145396</td>\n",
       "      <td>-0.268702</td>\n",
       "      <td>-0.364293</td>\n",
       "      <td>0.089474</td>\n",
       "      <td>0.153726</td>\n",
       "      <td>0.965496</td>\n",
       "      <td>0.941176</td>\n",
       "      <td>1.000000</td>\n",
       "      <td>0.930014</td>\n",
       "    </tr>\n",
       "    <tr>\n",
       "      <th>price</th>\n",
       "      <td>0.920064</td>\n",
       "      <td>-0.084878</td>\n",
       "      <td>-0.157426</td>\n",
       "      <td>-0.213649</td>\n",
       "      <td>-0.003292</td>\n",
       "      <td>0.162804</td>\n",
       "      <td>0.957668</td>\n",
       "      <td>0.928909</td>\n",
       "      <td>0.930014</td>\n",
       "      <td>1.000000</td>\n",
       "    </tr>\n",
       "  </tbody>\n",
       "</table>\n",
       "</div>"
      ],
      "text/plain": [
       "            carat       cut     color   clarity     depth     table         x  \\\n",
       "carat    1.000000 -0.131069 -0.293307 -0.353255  0.023585  0.185478  0.974648   \n",
       "cut     -0.131069  1.000000  0.017590  0.188554 -0.215352 -0.431195 -0.122895   \n",
       "color   -0.293307  0.017590  1.000000 -0.023444 -0.047839 -0.028516 -0.272222   \n",
       "clarity -0.353255  0.188554 -0.023444  1.000000 -0.066904 -0.161419 -0.371745   \n",
       "depth    0.023585 -0.215352 -0.047839 -0.066904  1.000000 -0.299203 -0.029867   \n",
       "table    0.185478 -0.431195 -0.028516 -0.161419 -0.299203  1.000000  0.200374   \n",
       "x        0.974648 -0.122895 -0.272222 -0.371745 -0.029867  0.200374  1.000000   \n",
       "y        0.944419 -0.117832 -0.263498 -0.355509 -0.033960  0.186788  0.967315   \n",
       "z        0.947469 -0.145396 -0.268702 -0.364293  0.089474  0.153726  0.965496   \n",
       "price    0.920064 -0.084878 -0.157426 -0.213649 -0.003292  0.162804  0.957668   \n",
       "\n",
       "                y         z     price  \n",
       "carat    0.944419  0.947469  0.920064  \n",
       "cut     -0.117832 -0.145396 -0.084878  \n",
       "color   -0.263498 -0.268702 -0.157426  \n",
       "clarity -0.355509 -0.364293 -0.213649  \n",
       "depth   -0.033960  0.089474 -0.003292  \n",
       "table    0.186788  0.153726  0.162804  \n",
       "x        0.967315  0.965496  0.957668  \n",
       "y        1.000000  0.941176  0.928909  \n",
       "z        0.941176  1.000000  0.930014  \n",
       "price    0.928909  0.930014  1.000000  "
      ]
     },
     "execution_count": 210,
     "metadata": {},
     "output_type": "execute_result"
    }
   ],
   "source": [
    "df_train.corr()"
   ]
  },
  {
   "cell_type": "code",
   "execution_count": 211,
   "metadata": {},
   "outputs": [
    {
     "data": {
      "text/plain": [
       "<AxesSubplot:>"
      ]
     },
     "execution_count": 211,
     "metadata": {},
     "output_type": "execute_result"
    },
    {
     "data": {
      "image/png": "[encoded data removed]",
      "text/plain": [
       "<Figure size 1080x576 with 2 Axes>"
      ]
     },
     "metadata": {},
     "output_type": "display_data"
    }
   ],
   "source": [
    "corr = df_train.corr()\n",
    "mask = np.zeros_like(corr)\n",
    "mask[np.triu_indices_from(mask)] = True\n",
    "\n",
    "\n",
    "sns.heatmap(corr, \n",
    "        xticklabels=corr.columns,\n",
    "        yticklabels=corr.columns,\n",
    "           cmap=\"YlGnBu\", mask=mask, vmax=1, square=True)"
   ]
  },
  {
   "cell_type": "code",
   "execution_count": 212,
   "metadata": {},
   "outputs": [],
   "source": [
    "# null hypothesis: x comes from a normal distribution\n",
    "# if P< 0.5 \"The null hypothesis can be rejected, \n",
    "# its not a normal distribution\""
   ]
  },
  {
   "cell_type": "code",
   "execution_count": 213,
   "metadata": {},
   "outputs": [],
   "source": [
    "from scipy import stats"
   ]
  },
  {
   "cell_type": "code",
   "execution_count": 214,
   "metadata": {},
   "outputs": [
    {
     "name": "stdout",
     "output_type": "stream",
     "text": [
      "p = 0\n",
      "k2 = 6797.69\n"
     ]
    }
   ],
   "source": [
    "k2,p= stats.normaltest(a=df_train[\"carat\"],nan_policy=\"omit\")\n",
    "print(\"p = {:g}\".format(p))\n",
    "print(\"k2 = {:g}\".format(k2))"
   ]
  },
  {
   "cell_type": "code",
   "execution_count": 215,
   "metadata": {},
   "outputs": [
    {
     "name": "stdout",
     "output_type": "stream",
     "text": [
      "p = 0\n",
      "k2 = 5249.1\n"
     ]
    }
   ],
   "source": [
    "k2,p= stats.normaltest(a=df_train[\"depth\"],nan_policy=\"omit\")\n",
    "print(\"p = {:g}\".format(p))\n",
    "print(\"k2 = {:g}\".format(k2))"
   ]
  },
  {
   "cell_type": "code",
   "execution_count": 216,
   "metadata": {},
   "outputs": [
    {
     "name": "stdout",
     "output_type": "stream",
     "text": [
      "p = 0\n",
      "k2 = 6744.1\n"
     ]
    }
   ],
   "source": [
    "k2,p= stats.normaltest(a=df_train[\"table\"],nan_policy=\"omit\")\n",
    "print(\"p = {:g}\".format(p))\n",
    "print(\"k2 = {:g}\".format(k2))"
   ]
  },
  {
   "cell_type": "code",
   "execution_count": 217,
   "metadata": {},
   "outputs": [
    {
     "name": "stdout",
     "output_type": "stream",
     "text": [
      "p = 0\n",
      "k2 = 2234.62\n"
     ]
    }
   ],
   "source": [
    "k2,p= stats.normaltest(a=df_train[\"x\"],nan_policy=\"omit\")\n",
    "print(\"p = {:g}\".format(p))\n",
    "print(\"k2 = {:g}\".format(k2))"
   ]
  },
  {
   "cell_type": "code",
   "execution_count": 218,
   "metadata": {},
   "outputs": [
    {
     "name": "stdout",
     "output_type": "stream",
     "text": [
      "p = 0\n",
      "k2 = 25242.4\n"
     ]
    }
   ],
   "source": [
    "k2,p= stats.normaltest(a=df_train[\"z\"],nan_policy=\"omit\")\n",
    "print(\"p = {:g}\".format(p))\n",
    "print(\"k2 = {:g}\".format(k2))"
   ]
  },
  {
   "cell_type": "code",
   "execution_count": 219,
   "metadata": {},
   "outputs": [
    {
     "name": "stdout",
     "output_type": "stream",
     "text": [
      "p = 0\n",
      "k2 = 34696.8\n"
     ]
    }
   ],
   "source": [
    "k2,p= stats.normaltest(a=df_train[\"y\"],nan_policy=\"omit\")\n",
    "print(\"p = {:g}\".format(p))\n",
    "print(\"k2 = {:g}\".format(k2))"
   ]
  },
  {
   "cell_type": "code",
   "execution_count": 220,
   "metadata": {},
   "outputs": [
    {
     "name": "stdout",
     "output_type": "stream",
     "text": [
      "p = 0\n",
      "k2 = 3269.02\n"
     ]
    }
   ],
   "source": [
    "k2,p= stats.normaltest(a=df_train[\"cut\"],nan_policy=\"omit\")\n",
    "print(\"p = {:g}\".format(p))\n",
    "print(\"k2 = {:g}\".format(k2))"
   ]
  },
  {
   "cell_type": "code",
   "execution_count": 221,
   "metadata": {},
   "outputs": [
    {
     "name": "stdout",
     "output_type": "stream",
     "text": [
      "p = 0\n",
      "k2 = 5020.53\n"
     ]
    }
   ],
   "source": [
    "k2,p= stats.normaltest(a=df_train[\"color\"],nan_policy=\"omit\")\n",
    "print(\"p = {:g}\".format(p))\n",
    "print(\"k2 = {:g}\".format(k2))"
   ]
  },
  {
   "cell_type": "code",
   "execution_count": 222,
   "metadata": {},
   "outputs": [
    {
     "name": "stdout",
     "output_type": "stream",
     "text": [
      "p = 0\n",
      "k2 = 2227.24\n"
     ]
    }
   ],
   "source": [
    "k2,p= stats.normaltest(a=df_train[\"clarity\"],nan_policy=\"omit\")\n",
    "print(\"p = {:g}\".format(p))\n",
    "print(\"k2 = {:g}\".format(k2))"
   ]
  },
  {
   "cell_type": "code",
   "execution_count": 223,
   "metadata": {},
   "outputs": [
    {
     "data": {
      "text/plain": [
       "<AxesSubplot:xlabel='carat', ylabel='Count'>"
      ]
     },
     "execution_count": 223,
     "metadata": {},
     "output_type": "execute_result"
    },
    {
     "data": {
      "image/png": "[encoded data removed]",
      "text/plain": [
       "<Figure size 1080x576 with 1 Axes>"
      ]
     },
     "metadata": {},
     "output_type": "display_data"
    }
   ],
   "source": [
    "sns.histplot(data=df_train, x=\"carat\",kde=True)"
   ]
  },
  {
   "cell_type": "code",
   "execution_count": 224,
   "metadata": {},
   "outputs": [
    {
     "data": {
      "text/plain": [
       "<AxesSubplot:xlabel='depth', ylabel='Count'>"
      ]
     },
     "execution_count": 224,
     "metadata": {},
     "output_type": "execute_result"
    },
    {
     "data": {
      "image/png": "[encoded data removed]",
      "text/plain": [
       "<Figure size 1080x576 with 1 Axes>"
      ]
     },
     "metadata": {},
     "output_type": "display_data"
    }
   ],
   "source": [
    "sns.histplot(data=df_train, x=\"depth\",kde=True)"
   ]
  },
  {
   "cell_type": "code",
   "execution_count": 225,
   "metadata": {},
   "outputs": [
    {
     "data": {
      "text/plain": [
       "<AxesSubplot:xlabel='table', ylabel='Count'>"
      ]
     },
     "execution_count": 225,
     "metadata": {},
     "output_type": "execute_result"
    },
    {
     "data": {
      "image/png": "[encoded data removed]",
      "text/plain": [
       "<Figure size 1080x576 with 1 Axes>"
      ]
     },
     "metadata": {},
     "output_type": "display_data"
    }
   ],
   "source": [
    "sns.histplot(data=df_train, x=\"table\",kde=True)"
   ]
  },
  {
   "cell_type": "code",
   "execution_count": 226,
   "metadata": {},
   "outputs": [
    {
     "data": {
      "text/plain": [
       "<AxesSubplot:xlabel='x', ylabel='Count'>"
      ]
     },
     "execution_count": 226,
     "metadata": {},
     "output_type": "execute_result"
    },
    {
     "data": {
      "image/png": "[encoded data removed]",
      "text/plain": [
       "<Figure size 1080x576 with 1 Axes>"
      ]
     },
     "metadata": {},
     "output_type": "display_data"
    }
   ],
   "source": [
    "sns.histplot(data=df_train, x=\"x\",kde=True)"
   ]
  },
  {
   "cell_type": "code",
   "execution_count": 227,
   "metadata": {},
   "outputs": [
    {
     "data": {
      "text/plain": [
       "<AxesSubplot:xlabel='y', ylabel='Count'>"
      ]
     },
     "execution_count": 227,
     "metadata": {},
     "output_type": "execute_result"
    },
    {
     "data": {
      "image/png": "[encoded data removed]",
      "text/plain": [
       "<Figure size 1080x576 with 1 Axes>"
      ]
     },
     "metadata": {},
     "output_type": "display_data"
    }
   ],
   "source": [
    "sns.histplot(data=df_train, x=\"y\",kde=True)"
   ]
  },
  {
   "cell_type": "code",
   "execution_count": 228,
   "metadata": {},
   "outputs": [
    {
     "data": {
      "text/plain": [
       "<AxesSubplot:xlabel='z', ylabel='Count'>"
      ]
     },
     "execution_count": 228,
     "metadata": {},
     "output_type": "execute_result"
    },
    {
     "data": {
      "image/png": "[encoded data removed]",
      "text/plain": [
       "<Figure size 1080x576 with 1 Axes>"
      ]
     },
     "metadata": {},
     "output_type": "display_data"
    }
   ],
   "source": [
    "sns.histplot(data=df_train, x=\"z\",kde=True)"
   ]
  },
  {
   "cell_type": "code",
   "execution_count": 229,
   "metadata": {},
   "outputs": [
    {
     "data": {
      "text/plain": [
       "<AxesSubplot:xlabel='cut', ylabel='Count'>"
      ]
     },
     "execution_count": 229,
     "metadata": {},
     "output_type": "execute_result"
    },
    {
     "data": {
      "image/png": "[encoded data removed]",
      "text/plain": [
       "<Figure size 1080x576 with 1 Axes>"
      ]
     },
     "metadata": {},
     "output_type": "display_data"
    }
   ],
   "source": [
    "sns.histplot(data=df_train, x=\"cut\",kde=True)"
   ]
  },
  {
   "cell_type": "code",
   "execution_count": 230,
   "metadata": {},
   "outputs": [
    {
     "data": {
      "text/plain": [
       "<AxesSubplot:xlabel='color', ylabel='Count'>"
      ]
     },
     "execution_count": 230,
     "metadata": {},
     "output_type": "execute_result"
    },
    {
     "data": {
      "image/png": "[encoded data removed]",
      "text/plain": [
       "<Figure size 1080x576 with 1 Axes>"
      ]
     },
     "metadata": {},
     "output_type": "display_data"
    }
   ],
   "source": [
    "sns.histplot(data=df_train, x=\"color\",kde=True)"
   ]
  },
  {
   "cell_type": "code",
   "execution_count": 231,
   "metadata": {},
   "outputs": [
    {
     "data": {
      "text/plain": [
       "<AxesSubplot:xlabel='clarity', ylabel='Count'>"
      ]
     },
     "execution_count": 231,
     "metadata": {},
     "output_type": "execute_result"
    },
    {
     "data": {
      "image/png": "[encoded data removed]",
      "text/plain": [
       "<Figure size 1080x576 with 1 Axes>"
      ]
     },
     "metadata": {},
     "output_type": "display_data"
    }
   ],
   "source": [
    "sns.histplot(data=df_train, x=\"clarity\",kde=True)"
   ]
  },
  {
   "cell_type": "code",
   "execution_count": 232,
   "metadata": {},
   "outputs": [],
   "source": [
    "#According to our test we can now use normalize before we run our models."
   ]
  },
  {
   "cell_type": "code",
   "execution_count": 233,
   "metadata": {},
   "outputs": [
    {
     "data": {
      "text/html": [
       "<div>\n",
       "<style scoped>\n",
       "    .dataframe tbody tr th:only-of-type {\n",
       "        vertical-align: middle;\n",
       "    }\n",
       "\n",
       "    .dataframe tbody tr th {\n",
       "        vertical-align: top;\n",
       "    }\n",
       "\n",
       "    .dataframe thead th {\n",
       "        text-align: right;\n",
       "    }\n",
       "</style>\n",
       "<table border=\"1\" class=\"dataframe\">\n",
       "  <thead>\n",
       "    <tr style=\"text-align: right;\">\n",
       "      <th></th>\n",
       "      <th>carat</th>\n",
       "      <th>cut</th>\n",
       "      <th>color</th>\n",
       "      <th>clarity</th>\n",
       "      <th>depth</th>\n",
       "      <th>table</th>\n",
       "      <th>x</th>\n",
       "      <th>y</th>\n",
       "      <th>z</th>\n",
       "      <th>price</th>\n",
       "    </tr>\n",
       "  </thead>\n",
       "  <tbody>\n",
       "    <tr>\n",
       "      <th>30883</th>\n",
       "      <td>1.14</td>\n",
       "      <td>4</td>\n",
       "      <td>4</td>\n",
       "      <td>3</td>\n",
       "      <td>62.3</td>\n",
       "      <td>59.0</td>\n",
       "      <td>6.69</td>\n",
       "      <td>6.66</td>\n",
       "      <td>4.16</td>\n",
       "      <td>8.639</td>\n",
       "    </tr>\n",
       "    <tr>\n",
       "      <th>23235</th>\n",
       "      <td>0.37</td>\n",
       "      <td>5</td>\n",
       "      <td>5</td>\n",
       "      <td>6</td>\n",
       "      <td>61.6</td>\n",
       "      <td>57.0</td>\n",
       "      <td>4.59</td>\n",
       "      <td>4.63</td>\n",
       "      <td>2.84</td>\n",
       "      <td>6.824</td>\n",
       "    </tr>\n",
       "    <tr>\n",
       "      <th>5719</th>\n",
       "      <td>0.32</td>\n",
       "      <td>5</td>\n",
       "      <td>3</td>\n",
       "      <td>5</td>\n",
       "      <td>62.7</td>\n",
       "      <td>56.0</td>\n",
       "      <td>4.42</td>\n",
       "      <td>4.39</td>\n",
       "      <td>2.76</td>\n",
       "      <td>6.510</td>\n",
       "    </tr>\n",
       "    <tr>\n",
       "      <th>14398</th>\n",
       "      <td>2.30</td>\n",
       "      <td>5</td>\n",
       "      <td>2</td>\n",
       "      <td>2</td>\n",
       "      <td>61.8</td>\n",
       "      <td>57.0</td>\n",
       "      <td>8.45</td>\n",
       "      <td>8.48</td>\n",
       "      <td>5.23</td>\n",
       "      <td>9.692</td>\n",
       "    </tr>\n",
       "    <tr>\n",
       "      <th>34711</th>\n",
       "      <td>0.35</td>\n",
       "      <td>5</td>\n",
       "      <td>2</td>\n",
       "      <td>4</td>\n",
       "      <td>61.4</td>\n",
       "      <td>55.0</td>\n",
       "      <td>4.54</td>\n",
       "      <td>4.58</td>\n",
       "      <td>2.80</td>\n",
       "      <td>6.232</td>\n",
       "    </tr>\n",
       "  </tbody>\n",
       "</table>\n",
       "</div>"
      ],
      "text/plain": [
       "       carat  cut  color  clarity  depth  table     x     y     z  price\n",
       "30883   1.14    4      4        3   62.3   59.0  6.69  6.66  4.16  8.639\n",
       "23235   0.37    5      5        6   61.6   57.0  4.59  4.63  2.84  6.824\n",
       "5719    0.32    5      3        5   62.7   56.0  4.42  4.39  2.76  6.510\n",
       "14398   2.30    5      2        2   61.8   57.0  8.45  8.48  5.23  9.692\n",
       "34711   0.35    5      2        4   61.4   55.0  4.54  4.58  2.80  6.232"
      ]
     },
     "execution_count": 233,
     "metadata": {},
     "output_type": "execute_result"
    }
   ],
   "source": [
    "df_train.sample(5)"
   ]
  },
  {
   "cell_type": "code",
   "execution_count": 234,
   "metadata": {},
   "outputs": [],
   "source": [
    "# drop outliers."
   ]
  },
  {
   "cell_type": "code",
   "execution_count": 235,
   "metadata": {},
   "outputs": [],
   "source": [
    "df_train = df_train[(df_train[\"depth\"]<75)&(df_train[\"depth\"]>45)]\n",
    "df_train = df_train[(df_train[\"table\"]<80)&(df_train[\"table\"]>40)]\n",
    "df_train = df_train[(df_train[\"x\"]<30)]\n",
    "df_train = df_train[(df_train[\"y\"]<30)]\n",
    "df_train = df_train[(df_train[\"z\"]<30)&(df_train[\"z\"]>2)]"
   ]
  },
  {
   "cell_type": "code",
   "execution_count": 1,
   "metadata": {},
   "outputs": [],
   "source": [
    "# Standarize\n",
    "# in this case Standarize gave a better prediction than normalize"
   ]
  },
  {
   "cell_type": "code",
   "execution_count": 237,
   "metadata": {},
   "outputs": [],
   "source": [
    "from sklearn.preprocessing import StandardScaler"
   ]
  },
  {
   "cell_type": "code",
   "execution_count": 238,
   "metadata": {},
   "outputs": [],
   "source": [
    "scaler = StandardScaler()"
   ]
  },
  {
   "cell_type": "code",
   "execution_count": 239,
   "metadata": {},
   "outputs": [],
   "source": [
    "min_max = MinMaxScaler()"
   ]
  },
  {
   "cell_type": "code",
   "execution_count": 240,
   "metadata": {},
   "outputs": [],
   "source": [
    "df_train[\"depth\"] = scaler.fit_transform(df_train[\"depth\"].values.reshape(-1,1))"
   ]
  },
  {
   "cell_type": "code",
   "execution_count": 241,
   "metadata": {},
   "outputs": [],
   "source": [
    "df_train[\"table\"] = scaler.fit_transform(df_train[\"table\"].values.reshape(-1,1))"
   ]
  },
  {
   "cell_type": "code",
   "execution_count": 242,
   "metadata": {},
   "outputs": [],
   "source": [
    "df_train[\"carat\"] = scaler.fit_transform(df_train[\"carat\"].values.reshape(-1,1))"
   ]
  },
  {
   "cell_type": "code",
   "execution_count": 243,
   "metadata": {},
   "outputs": [],
   "source": [
    "df_train[\"x\"] = scaler.fit_transform(df_train[\"x\"].values.reshape(-1,1))"
   ]
  },
  {
   "cell_type": "code",
   "execution_count": 244,
   "metadata": {},
   "outputs": [],
   "source": [
    "df_train[\"z\"] = scaler.fit_transform(df_train[\"z\"].values.reshape(-1,1))"
   ]
  },
  {
   "cell_type": "code",
   "execution_count": 245,
   "metadata": {},
   "outputs": [],
   "source": [
    "df_train[\"y\"] = scaler.fit_transform(df_train[\"y\"].values.reshape(-1,1))"
   ]
  },
  {
   "cell_type": "code",
   "execution_count": 246,
   "metadata": {},
   "outputs": [
    {
     "data": {
      "text/html": [
       "<div>\n",
       "<style scoped>\n",
       "    .dataframe tbody tr th:only-of-type {\n",
       "        vertical-align: middle;\n",
       "    }\n",
       "\n",
       "    .dataframe tbody tr th {\n",
       "        vertical-align: top;\n",
       "    }\n",
       "\n",
       "    .dataframe thead th {\n",
       "        text-align: right;\n",
       "    }\n",
       "</style>\n",
       "<table border=\"1\" class=\"dataframe\">\n",
       "  <thead>\n",
       "    <tr style=\"text-align: right;\">\n",
       "      <th></th>\n",
       "      <th>carat</th>\n",
       "      <th>cut</th>\n",
       "      <th>color</th>\n",
       "      <th>clarity</th>\n",
       "      <th>depth</th>\n",
       "      <th>table</th>\n",
       "      <th>x</th>\n",
       "      <th>y</th>\n",
       "      <th>z</th>\n",
       "      <th>price</th>\n",
       "    </tr>\n",
       "  </thead>\n",
       "  <tbody>\n",
       "    <tr>\n",
       "      <th>14102</th>\n",
       "      <td>-0.856188</td>\n",
       "      <td>5</td>\n",
       "      <td>4</td>\n",
       "      <td>6</td>\n",
       "      <td>0.248088</td>\n",
       "      <td>-0.651871</td>\n",
       "      <td>-0.943970</td>\n",
       "      <td>-0.925483</td>\n",
       "      <td>-0.906337</td>\n",
       "      <td>6.787</td>\n",
       "    </tr>\n",
       "    <tr>\n",
       "      <th>36177</th>\n",
       "      <td>2.592048</td>\n",
       "      <td>4</td>\n",
       "      <td>2</td>\n",
       "      <td>3</td>\n",
       "      <td>-0.384421</td>\n",
       "      <td>0.246924</td>\n",
       "      <td>2.209887</td>\n",
       "      <td>2.179744</td>\n",
       "      <td>2.124693</td>\n",
       "      <td>9.728</td>\n",
       "    </tr>\n",
       "    <tr>\n",
       "      <th>19151</th>\n",
       "      <td>0.468439</td>\n",
       "      <td>3</td>\n",
       "      <td>7</td>\n",
       "      <td>3</td>\n",
       "      <td>0.740040</td>\n",
       "      <td>-0.651871</td>\n",
       "      <td>0.588413</td>\n",
       "      <td>0.636105</td>\n",
       "      <td>0.710212</td>\n",
       "      <td>8.707</td>\n",
       "    </tr>\n",
       "    <tr>\n",
       "      <th>4889</th>\n",
       "      <td>0.447414</td>\n",
       "      <td>1</td>\n",
       "      <td>7</td>\n",
       "      <td>6</td>\n",
       "      <td>2.567290</td>\n",
       "      <td>-0.202473</td>\n",
       "      <td>0.419138</td>\n",
       "      <td>0.384815</td>\n",
       "      <td>0.724646</td>\n",
       "      <td>9.073</td>\n",
       "    </tr>\n",
       "    <tr>\n",
       "      <th>35568</th>\n",
       "      <td>-0.961317</td>\n",
       "      <td>5</td>\n",
       "      <td>3</td>\n",
       "      <td>5</td>\n",
       "      <td>0.529203</td>\n",
       "      <td>-0.202473</td>\n",
       "      <td>-1.157790</td>\n",
       "      <td>-1.140874</td>\n",
       "      <td>-1.093972</td>\n",
       "      <td>6.390</td>\n",
       "    </tr>\n",
       "  </tbody>\n",
       "</table>\n",
       "</div>"
      ],
      "text/plain": [
       "          carat  cut  color  clarity     depth     table         x         y  \\\n",
       "14102 -0.856188    5      4        6  0.248088 -0.651871 -0.943970 -0.925483   \n",
       "36177  2.592048    4      2        3 -0.384421  0.246924  2.209887  2.179744   \n",
       "19151  0.468439    3      7        3  0.740040 -0.651871  0.588413  0.636105   \n",
       "4889   0.447414    1      7        6  2.567290 -0.202473  0.419138  0.384815   \n",
       "35568 -0.961317    5      3        5  0.529203 -0.202473 -1.157790 -1.140874   \n",
       "\n",
       "              z  price  \n",
       "14102 -0.906337  6.787  \n",
       "36177  2.124693  9.728  \n",
       "19151  0.710212  8.707  \n",
       "4889   0.724646  9.073  \n",
       "35568 -1.093972  6.390  "
      ]
     },
     "execution_count": 246,
     "metadata": {},
     "output_type": "execute_result"
    }
   ],
   "source": [
    "df_train.sample(5)"
   ]
  },
  {
   "cell_type": "code",
   "execution_count": 247,
   "metadata": {},
   "outputs": [],
   "source": [
    "# we do the same for the test df"
   ]
  },
  {
   "cell_type": "code",
   "execution_count": 248,
   "metadata": {},
   "outputs": [],
   "source": [
    "df_test[\"depth\"] = scaler.fit_transform(df_test[\"depth\"].values.reshape(-1,1))"
   ]
  },
  {
   "cell_type": "code",
   "execution_count": 249,
   "metadata": {},
   "outputs": [],
   "source": [
    "df_test[\"table\"] = scaler.fit_transform(df_test[\"table\"].values.reshape(-1,1))"
   ]
  },
  {
   "cell_type": "code",
   "execution_count": 250,
   "metadata": {},
   "outputs": [],
   "source": [
    "df_test[\"carat\"] = scaler.fit_transform(df_test[\"carat\"].values.reshape(-1,1))"
   ]
  },
  {
   "cell_type": "code",
   "execution_count": 251,
   "metadata": {},
   "outputs": [],
   "source": [
    "df_test[\"x\"] = scaler.fit_transform(df_test[\"x\"].values.reshape(-1,1))"
   ]
  },
  {
   "cell_type": "code",
   "execution_count": 252,
   "metadata": {},
   "outputs": [],
   "source": [
    "df_test[\"z\"] = scaler.fit_transform(df_test[\"z\"].values.reshape(-1,1))"
   ]
  },
  {
   "cell_type": "code",
   "execution_count": 253,
   "metadata": {},
   "outputs": [],
   "source": [
    "df_test[\"y\"] = scaler.fit_transform(df_test[\"y\"].values.reshape(-1,1))"
   ]
  },
  {
   "cell_type": "code",
   "execution_count": 254,
   "metadata": {},
   "outputs": [],
   "source": [
    "df_test[\"depth\"] = scaler.fit_transform(df_test[\"depth\"].values.reshape(-1,1))"
   ]
  },
  {
   "cell_type": "code",
   "execution_count": 255,
   "metadata": {},
   "outputs": [
    {
     "data": {
      "text/html": [
       "<div>\n",
       "<style scoped>\n",
       "    .dataframe tbody tr th:only-of-type {\n",
       "        vertical-align: middle;\n",
       "    }\n",
       "\n",
       "    .dataframe tbody tr th {\n",
       "        vertical-align: top;\n",
       "    }\n",
       "\n",
       "    .dataframe thead th {\n",
       "        text-align: right;\n",
       "    }\n",
       "</style>\n",
       "<table border=\"1\" class=\"dataframe\">\n",
       "  <thead>\n",
       "    <tr style=\"text-align: right;\">\n",
       "      <th></th>\n",
       "      <th>carat</th>\n",
       "      <th>cut</th>\n",
       "      <th>color</th>\n",
       "      <th>clarity</th>\n",
       "      <th>depth</th>\n",
       "      <th>table</th>\n",
       "      <th>x</th>\n",
       "      <th>y</th>\n",
       "      <th>z</th>\n",
       "    </tr>\n",
       "  </thead>\n",
       "  <tbody>\n",
       "    <tr>\n",
       "      <th>149</th>\n",
       "      <td>-0.617355</td>\n",
       "      <td>5</td>\n",
       "      <td>4</td>\n",
       "      <td>6</td>\n",
       "      <td>-1.167962</td>\n",
       "      <td>-0.659595</td>\n",
       "      <td>-0.465378</td>\n",
       "      <td>-0.497995</td>\n",
       "      <td>-0.598792</td>\n",
       "    </tr>\n",
       "    <tr>\n",
       "      <th>9171</th>\n",
       "      <td>0.450614</td>\n",
       "      <td>5</td>\n",
       "      <td>6</td>\n",
       "      <td>3</td>\n",
       "      <td>0.029235</td>\n",
       "      <td>-0.659595</td>\n",
       "      <td>0.650509</td>\n",
       "      <td>0.698464</td>\n",
       "      <td>0.677445</td>\n",
       "    </tr>\n",
       "    <tr>\n",
       "      <th>12173</th>\n",
       "      <td>0.215661</td>\n",
       "      <td>4</td>\n",
       "      <td>6</td>\n",
       "      <td>3</td>\n",
       "      <td>-0.322882</td>\n",
       "      <td>1.130774</td>\n",
       "      <td>0.407533</td>\n",
       "      <td>0.363093</td>\n",
       "      <td>0.343883</td>\n",
       "    </tr>\n",
       "    <tr>\n",
       "      <th>48</th>\n",
       "      <td>0.920521</td>\n",
       "      <td>5</td>\n",
       "      <td>3</td>\n",
       "      <td>4</td>\n",
       "      <td>0.310928</td>\n",
       "      <td>-1.107188</td>\n",
       "      <td>1.001473</td>\n",
       "      <td>0.970386</td>\n",
       "      <td>1.025509</td>\n",
       "    </tr>\n",
       "    <tr>\n",
       "      <th>4900</th>\n",
       "      <td>-1.065903</td>\n",
       "      <td>5</td>\n",
       "      <td>4</td>\n",
       "      <td>6</td>\n",
       "      <td>0.310928</td>\n",
       "      <td>-1.107188</td>\n",
       "      <td>-1.302293</td>\n",
       "      <td>-1.277506</td>\n",
       "      <td>-1.251413</td>\n",
       "    </tr>\n",
       "  </tbody>\n",
       "</table>\n",
       "</div>"
      ],
      "text/plain": [
       "          carat  cut  color  clarity     depth     table         x         y  \\\n",
       "149   -0.617355    5      4        6 -1.167962 -0.659595 -0.465378 -0.497995   \n",
       "9171   0.450614    5      6        3  0.029235 -0.659595  0.650509  0.698464   \n",
       "12173  0.215661    4      6        3 -0.322882  1.130774  0.407533  0.363093   \n",
       "48     0.920521    5      3        4  0.310928 -1.107188  1.001473  0.970386   \n",
       "4900  -1.065903    5      4        6  0.310928 -1.107188 -1.302293 -1.277506   \n",
       "\n",
       "              z  \n",
       "149   -0.598792  \n",
       "9171   0.677445  \n",
       "12173  0.343883  \n",
       "48     1.025509  \n",
       "4900  -1.251413  "
      ]
     },
     "execution_count": 255,
     "metadata": {},
     "output_type": "execute_result"
    }
   ],
   "source": [
    "df_test.sample(5)"
   ]
  },
  {
   "cell_type": "code",
   "execution_count": 256,
   "metadata": {},
   "outputs": [
    {
     "data": {
      "text/html": [
       "<div>\n",
       "<style scoped>\n",
       "    .dataframe tbody tr th:only-of-type {\n",
       "        vertical-align: middle;\n",
       "    }\n",
       "\n",
       "    .dataframe tbody tr th {\n",
       "        vertical-align: top;\n",
       "    }\n",
       "\n",
       "    .dataframe thead th {\n",
       "        text-align: right;\n",
       "    }\n",
       "</style>\n",
       "<table border=\"1\" class=\"dataframe\">\n",
       "  <thead>\n",
       "    <tr style=\"text-align: right;\">\n",
       "      <th></th>\n",
       "      <th>carat</th>\n",
       "      <th>cut</th>\n",
       "      <th>color</th>\n",
       "      <th>clarity</th>\n",
       "      <th>depth</th>\n",
       "      <th>table</th>\n",
       "      <th>x</th>\n",
       "      <th>y</th>\n",
       "      <th>z</th>\n",
       "    </tr>\n",
       "  </thead>\n",
       "  <tbody>\n",
       "    <tr>\n",
       "      <th>count</th>\n",
       "      <td>1.348500e+04</td>\n",
       "      <td>13485.000000</td>\n",
       "      <td>13485.000000</td>\n",
       "      <td>13485.000000</td>\n",
       "      <td>1.348500e+04</td>\n",
       "      <td>1.348500e+04</td>\n",
       "      <td>1.348500e+04</td>\n",
       "      <td>1.348500e+04</td>\n",
       "      <td>1.348500e+04</td>\n",
       "    </tr>\n",
       "    <tr>\n",
       "      <th>mean</th>\n",
       "      <td>-8.219849e-17</td>\n",
       "      <td>3.893956</td>\n",
       "      <td>4.398962</td>\n",
       "      <td>4.058880</td>\n",
       "      <td>2.002271e-17</td>\n",
       "      <td>2.884324e-15</td>\n",
       "      <td>-5.817124e-16</td>\n",
       "      <td>-3.467090e-16</td>\n",
       "      <td>2.971792e-16</td>\n",
       "    </tr>\n",
       "    <tr>\n",
       "      <th>std</th>\n",
       "      <td>1.000037e+00</td>\n",
       "      <td>1.116752</td>\n",
       "      <td>1.693856</td>\n",
       "      <td>1.649305</td>\n",
       "      <td>1.000037e+00</td>\n",
       "      <td>1.000037e+00</td>\n",
       "      <td>1.000037e+00</td>\n",
       "      <td>1.000037e+00</td>\n",
       "      <td>1.000037e+00</td>\n",
       "    </tr>\n",
       "    <tr>\n",
       "      <th>min</th>\n",
       "      <td>-1.279497e+00</td>\n",
       "      <td>1.000000</td>\n",
       "      <td>1.000000</td>\n",
       "      <td>1.000000</td>\n",
       "      <td>-7.717331e+00</td>\n",
       "      <td>-6.478296e+00</td>\n",
       "      <td>-5.162899e+00</td>\n",
       "      <td>-5.202253e+00</td>\n",
       "      <td>-5.138133e+00</td>\n",
       "    </tr>\n",
       "    <tr>\n",
       "      <th>25%</th>\n",
       "      <td>-8.523087e-01</td>\n",
       "      <td>3.000000</td>\n",
       "      <td>3.000000</td>\n",
       "      <td>3.000000</td>\n",
       "      <td>-4.637286e-01</td>\n",
       "      <td>-6.595955e-01</td>\n",
       "      <td>-9.063329e-01</td>\n",
       "      <td>-9.058785e-01</td>\n",
       "      <td>-9.033481e-01</td>\n",
       "    </tr>\n",
       "    <tr>\n",
       "      <th>50%</th>\n",
       "      <td>-1.901675e-01</td>\n",
       "      <td>4.000000</td>\n",
       "      <td>4.000000</td>\n",
       "      <td>4.000000</td>\n",
       "      <td>9.965802e-02</td>\n",
       "      <td>-2.120031e-01</td>\n",
       "      <td>-2.442265e-02</td>\n",
       "      <td>-1.759850e-02</td>\n",
       "      <td>-1.868411e-02</td>\n",
       "    </tr>\n",
       "    <tr>\n",
       "      <th>75%</th>\n",
       "      <td>5.146925e-01</td>\n",
       "      <td>5.000000</td>\n",
       "      <td>6.000000</td>\n",
       "      <td>5.000000</td>\n",
       "      <td>5.221980e-01</td>\n",
       "      <td>6.831816e-01</td>\n",
       "      <td>7.225013e-01</td>\n",
       "      <td>7.256562e-01</td>\n",
       "      <td>7.209530e-01</td>\n",
       "    </tr>\n",
       "    <tr>\n",
       "      <th>max</th>\n",
       "      <td>7.114745e+00</td>\n",
       "      <td>5.000000</td>\n",
       "      <td>7.000000</td>\n",
       "      <td>8.000000</td>\n",
       "      <td>1.214205e+01</td>\n",
       "      <td>6.949475e+00</td>\n",
       "      <td>3.962171e+00</td>\n",
       "      <td>3.952469e+00</td>\n",
       "      <td>4.187095e+00</td>\n",
       "    </tr>\n",
       "  </tbody>\n",
       "</table>\n",
       "</div>"
      ],
      "text/plain": [
       "              carat           cut         color       clarity         depth  \\\n",
       "count  1.348500e+04  13485.000000  13485.000000  13485.000000  1.348500e+04   \n",
       "mean  -8.219849e-17      3.893956      4.398962      4.058880  2.002271e-17   \n",
       "std    1.000037e+00      1.116752      1.693856      1.649305  1.000037e+00   \n",
       "min   -1.279497e+00      1.000000      1.000000      1.000000 -7.717331e+00   \n",
       "25%   -8.523087e-01      3.000000      3.000000      3.000000 -4.637286e-01   \n",
       "50%   -1.901675e-01      4.000000      4.000000      4.000000  9.965802e-02   \n",
       "75%    5.146925e-01      5.000000      6.000000      5.000000  5.221980e-01   \n",
       "max    7.114745e+00      5.000000      7.000000      8.000000  1.214205e+01   \n",
       "\n",
       "              table             x             y             z  \n",
       "count  1.348500e+04  1.348500e+04  1.348500e+04  1.348500e+04  \n",
       "mean   2.884324e-15 -5.817124e-16 -3.467090e-16  2.971792e-16  \n",
       "std    1.000037e+00  1.000037e+00  1.000037e+00  1.000037e+00  \n",
       "min   -6.478296e+00 -5.162899e+00 -5.202253e+00 -5.138133e+00  \n",
       "25%   -6.595955e-01 -9.063329e-01 -9.058785e-01 -9.033481e-01  \n",
       "50%   -2.120031e-01 -2.442265e-02 -1.759850e-02 -1.868411e-02  \n",
       "75%    6.831816e-01  7.225013e-01  7.256562e-01  7.209530e-01  \n",
       "max    6.949475e+00  3.962171e+00  3.952469e+00  4.187095e+00  "
      ]
     },
     "execution_count": 256,
     "metadata": {},
     "output_type": "execute_result"
    }
   ],
   "source": [
    "df_test.describe()"
   ]
  },
  {
   "cell_type": "code",
   "execution_count": 257,
   "metadata": {},
   "outputs": [],
   "source": [
    "columns_to_drop = [\"x\", \"y\",\"z\"]"
   ]
  },
  {
   "cell_type": "code",
   "execution_count": 258,
   "metadata": {},
   "outputs": [],
   "source": [
    "df_train.drop(columns_to_drop, axis = 1, inplace = True)"
   ]
  },
  {
   "cell_type": "code",
   "execution_count": 259,
   "metadata": {},
   "outputs": [],
   "source": [
    "df_test.drop(columns_to_drop, axis = 1, inplace = True)"
   ]
  },
  {
   "cell_type": "code",
   "execution_count": null,
   "metadata": {},
   "outputs": [],
   "source": []
  },
  {
   "cell_type": "code",
   "execution_count": 260,
   "metadata": {},
   "outputs": [
    {
     "data": {
      "text/html": [
       "<div>\n",
       "<style scoped>\n",
       "    .dataframe tbody tr th:only-of-type {\n",
       "        vertical-align: middle;\n",
       "    }\n",
       "\n",
       "    .dataframe tbody tr th {\n",
       "        vertical-align: top;\n",
       "    }\n",
       "\n",
       "    .dataframe thead th {\n",
       "        text-align: right;\n",
       "    }\n",
       "</style>\n",
       "<table border=\"1\" class=\"dataframe\">\n",
       "  <thead>\n",
       "    <tr style=\"text-align: right;\">\n",
       "      <th></th>\n",
       "      <th>carat</th>\n",
       "      <th>cut</th>\n",
       "      <th>color</th>\n",
       "      <th>clarity</th>\n",
       "      <th>depth</th>\n",
       "      <th>table</th>\n",
       "      <th>price</th>\n",
       "    </tr>\n",
       "  </thead>\n",
       "  <tbody>\n",
       "    <tr>\n",
       "      <th>37357</th>\n",
       "      <td>-0.624904</td>\n",
       "      <td>5</td>\n",
       "      <td>3</td>\n",
       "      <td>6</td>\n",
       "      <td>-0.103306</td>\n",
       "      <td>-0.202473</td>\n",
       "      <td>7.519</td>\n",
       "    </tr>\n",
       "    <tr>\n",
       "      <th>27835</th>\n",
       "      <td>-0.435671</td>\n",
       "      <td>5</td>\n",
       "      <td>6</td>\n",
       "      <td>3</td>\n",
       "      <td>0.177809</td>\n",
       "      <td>-1.101269</td>\n",
       "      <td>7.417</td>\n",
       "    </tr>\n",
       "    <tr>\n",
       "      <th>12144</th>\n",
       "      <td>-0.435671</td>\n",
       "      <td>3</td>\n",
       "      <td>3</td>\n",
       "      <td>8</td>\n",
       "      <td>-0.033027</td>\n",
       "      <td>-0.651871</td>\n",
       "      <td>7.748</td>\n",
       "    </tr>\n",
       "    <tr>\n",
       "      <th>19421</th>\n",
       "      <td>-0.814136</td>\n",
       "      <td>2</td>\n",
       "      <td>6</td>\n",
       "      <td>6</td>\n",
       "      <td>0.950876</td>\n",
       "      <td>0.246924</td>\n",
       "      <td>6.966</td>\n",
       "    </tr>\n",
       "    <tr>\n",
       "      <th>37101</th>\n",
       "      <td>0.426388</td>\n",
       "      <td>4</td>\n",
       "      <td>4</td>\n",
       "      <td>4</td>\n",
       "      <td>0.810319</td>\n",
       "      <td>-0.651871</td>\n",
       "      <td>8.734</td>\n",
       "    </tr>\n",
       "  </tbody>\n",
       "</table>\n",
       "</div>"
      ],
      "text/plain": [
       "          carat  cut  color  clarity     depth     table  price\n",
       "37357 -0.624904    5      3        6 -0.103306 -0.202473  7.519\n",
       "27835 -0.435671    5      6        3  0.177809 -1.101269  7.417\n",
       "12144 -0.435671    3      3        8 -0.033027 -0.651871  7.748\n",
       "19421 -0.814136    2      6        6  0.950876  0.246924  6.966\n",
       "37101  0.426388    4      4        4  0.810319 -0.651871  8.734"
      ]
     },
     "execution_count": 260,
     "metadata": {},
     "output_type": "execute_result"
    }
   ],
   "source": [
    "df_train.sample(5)"
   ]
  },
  {
   "cell_type": "code",
   "execution_count": 261,
   "metadata": {},
   "outputs": [
    {
     "data": {
      "text/html": [
       "<div>\n",
       "<style scoped>\n",
       "    .dataframe tbody tr th:only-of-type {\n",
       "        vertical-align: middle;\n",
       "    }\n",
       "\n",
       "    .dataframe tbody tr th {\n",
       "        vertical-align: top;\n",
       "    }\n",
       "\n",
       "    .dataframe thead th {\n",
       "        text-align: right;\n",
       "    }\n",
       "</style>\n",
       "<table border=\"1\" class=\"dataframe\">\n",
       "  <thead>\n",
       "    <tr style=\"text-align: right;\">\n",
       "      <th></th>\n",
       "      <th>carat</th>\n",
       "      <th>cut</th>\n",
       "      <th>color</th>\n",
       "      <th>clarity</th>\n",
       "      <th>depth</th>\n",
       "      <th>table</th>\n",
       "    </tr>\n",
       "  </thead>\n",
       "  <tbody>\n",
       "    <tr>\n",
       "      <th>167</th>\n",
       "      <td>-0.062011</td>\n",
       "      <td>2</td>\n",
       "      <td>3</td>\n",
       "      <td>6</td>\n",
       "      <td>1.789818</td>\n",
       "      <td>0.190830</td>\n",
       "    </tr>\n",
       "    <tr>\n",
       "      <th>5808</th>\n",
       "      <td>-0.959106</td>\n",
       "      <td>5</td>\n",
       "      <td>4</td>\n",
       "      <td>7</td>\n",
       "      <td>-0.534152</td>\n",
       "      <td>-0.659595</td>\n",
       "    </tr>\n",
       "    <tr>\n",
       "      <th>4705</th>\n",
       "      <td>-0.617355</td>\n",
       "      <td>5</td>\n",
       "      <td>6</td>\n",
       "      <td>4</td>\n",
       "      <td>0.310928</td>\n",
       "      <td>-0.212003</td>\n",
       "    </tr>\n",
       "    <tr>\n",
       "      <th>2142</th>\n",
       "      <td>-0.617355</td>\n",
       "      <td>5</td>\n",
       "      <td>5</td>\n",
       "      <td>6</td>\n",
       "      <td>-0.393305</td>\n",
       "      <td>-0.659595</td>\n",
       "    </tr>\n",
       "    <tr>\n",
       "      <th>1385</th>\n",
       "      <td>2.586554</td>\n",
       "      <td>3</td>\n",
       "      <td>3</td>\n",
       "      <td>4</td>\n",
       "      <td>1.015161</td>\n",
       "      <td>0.235589</td>\n",
       "    </tr>\n",
       "  </tbody>\n",
       "</table>\n",
       "</div>"
      ],
      "text/plain": [
       "         carat  cut  color  clarity     depth     table\n",
       "167  -0.062011    2      3        6  1.789818  0.190830\n",
       "5808 -0.959106    5      4        7 -0.534152 -0.659595\n",
       "4705 -0.617355    5      6        4  0.310928 -0.212003\n",
       "2142 -0.617355    5      5        6 -0.393305 -0.659595\n",
       "1385  2.586554    3      3        4  1.015161  0.235589"
      ]
     },
     "execution_count": 261,
     "metadata": {},
     "output_type": "execute_result"
    }
   ],
   "source": [
    "df_test.sample(5)"
   ]
  },
  {
   "cell_type": "code",
   "execution_count": 262,
   "metadata": {},
   "outputs": [
    {
     "data": {
      "text/html": [
       "<div>\n",
       "<style scoped>\n",
       "    .dataframe tbody tr th:only-of-type {\n",
       "        vertical-align: middle;\n",
       "    }\n",
       "\n",
       "    .dataframe tbody tr th {\n",
       "        vertical-align: top;\n",
       "    }\n",
       "\n",
       "    .dataframe thead th {\n",
       "        text-align: right;\n",
       "    }\n",
       "</style>\n",
       "<table border=\"1\" class=\"dataframe\">\n",
       "  <thead>\n",
       "    <tr style=\"text-align: right;\">\n",
       "      <th></th>\n",
       "      <th>carat</th>\n",
       "      <th>cut</th>\n",
       "      <th>color</th>\n",
       "      <th>clarity</th>\n",
       "      <th>depth</th>\n",
       "      <th>table</th>\n",
       "      <th>price</th>\n",
       "    </tr>\n",
       "  </thead>\n",
       "  <tbody>\n",
       "    <tr>\n",
       "      <th>count</th>\n",
       "      <td>4.042800e+04</td>\n",
       "      <td>40428.000000</td>\n",
       "      <td>40428.000000</td>\n",
       "      <td>40428.000000</td>\n",
       "      <td>4.042800e+04</td>\n",
       "      <td>4.042800e+04</td>\n",
       "      <td>40428.000000</td>\n",
       "    </tr>\n",
       "    <tr>\n",
       "      <th>mean</th>\n",
       "      <td>-3.427225e-17</td>\n",
       "      <td>3.907910</td>\n",
       "      <td>4.408232</td>\n",
       "      <td>4.049174</td>\n",
       "      <td>-1.317724e-15</td>\n",
       "      <td>2.390269e-17</td>\n",
       "      <td>7.783249</td>\n",
       "    </tr>\n",
       "    <tr>\n",
       "      <th>std</th>\n",
       "      <td>1.000012e+00</td>\n",
       "      <td>1.116201</td>\n",
       "      <td>1.703725</td>\n",
       "      <td>1.646291</td>\n",
       "      <td>1.000012e+00</td>\n",
       "      <td>1.000012e+00</td>\n",
       "      <td>1.016697</td>\n",
       "    </tr>\n",
       "    <tr>\n",
       "      <th>min</th>\n",
       "      <td>-1.255678e+00</td>\n",
       "      <td>1.000000</td>\n",
       "      <td>1.000000</td>\n",
       "      <td>1.000000</td>\n",
       "      <td>-7.552863e+00</td>\n",
       "      <td>-6.044643e+00</td>\n",
       "      <td>5.787000</td>\n",
       "    </tr>\n",
       "    <tr>\n",
       "      <th>25%</th>\n",
       "      <td>-8.351618e-01</td>\n",
       "      <td>3.000000</td>\n",
       "      <td>3.000000</td>\n",
       "      <td>3.000000</td>\n",
       "      <td>-5.249791e-01</td>\n",
       "      <td>-6.518711e-01</td>\n",
       "      <td>6.851000</td>\n",
       "    </tr>\n",
       "    <tr>\n",
       "      <th>50%</th>\n",
       "      <td>-2.043871e-01</td>\n",
       "      <td>4.000000</td>\n",
       "      <td>4.000000</td>\n",
       "      <td>4.000000</td>\n",
       "      <td>3.725154e-02</td>\n",
       "      <td>-2.024735e-01</td>\n",
       "      <td>7.779000</td>\n",
       "    </tr>\n",
       "    <tr>\n",
       "      <th>75%</th>\n",
       "      <td>5.104910e-01</td>\n",
       "      <td>5.000000</td>\n",
       "      <td>6.000000</td>\n",
       "      <td>5.000000</td>\n",
       "      <td>5.292034e-01</td>\n",
       "      <td>6.963218e-01</td>\n",
       "      <td>8.580000</td>\n",
       "    </tr>\n",
       "    <tr>\n",
       "      <th>max</th>\n",
       "      <td>8.857744e+00</td>\n",
       "      <td>5.000000</td>\n",
       "      <td>7.000000</td>\n",
       "      <td>8.000000</td>\n",
       "      <td>8.330154e+00</td>\n",
       "      <td>9.684275e+00</td>\n",
       "      <td>9.842000</td>\n",
       "    </tr>\n",
       "  </tbody>\n",
       "</table>\n",
       "</div>"
      ],
      "text/plain": [
       "              carat           cut         color       clarity         depth  \\\n",
       "count  4.042800e+04  40428.000000  40428.000000  40428.000000  4.042800e+04   \n",
       "mean  -3.427225e-17      3.907910      4.408232      4.049174 -1.317724e-15   \n",
       "std    1.000012e+00      1.116201      1.703725      1.646291  1.000012e+00   \n",
       "min   -1.255678e+00      1.000000      1.000000      1.000000 -7.552863e+00   \n",
       "25%   -8.351618e-01      3.000000      3.000000      3.000000 -5.249791e-01   \n",
       "50%   -2.043871e-01      4.000000      4.000000      4.000000  3.725154e-02   \n",
       "75%    5.104910e-01      5.000000      6.000000      5.000000  5.292034e-01   \n",
       "max    8.857744e+00      5.000000      7.000000      8.000000  8.330154e+00   \n",
       "\n",
       "              table         price  \n",
       "count  4.042800e+04  40428.000000  \n",
       "mean   2.390269e-17      7.783249  \n",
       "std    1.000012e+00      1.016697  \n",
       "min   -6.044643e+00      5.787000  \n",
       "25%   -6.518711e-01      6.851000  \n",
       "50%   -2.024735e-01      7.779000  \n",
       "75%    6.963218e-01      8.580000  \n",
       "max    9.684275e+00      9.842000  "
      ]
     },
     "execution_count": 262,
     "metadata": {},
     "output_type": "execute_result"
    }
   ],
   "source": [
    "df_train.describe()"
   ]
  },
  {
   "cell_type": "code",
   "execution_count": 166,
   "metadata": {},
   "outputs": [
    {
     "data": {
      "text/plain": [
       "(40428, 7)"
      ]
     },
     "execution_count": 166,
     "metadata": {},
     "output_type": "execute_result"
    }
   ],
   "source": [
    "df_train.shape"
   ]
  },
  {
   "cell_type": "code",
   "execution_count": 77,
   "metadata": {},
   "outputs": [
    {
     "name": "stdout",
     "output_type": "stream",
     "text": [
      "carat      0.133056\n",
      "cut        2.000000\n",
      "color      3.000000\n",
      "clarity    2.000000\n",
      "depth      0.066372\n",
      "table      0.085714\n",
      "price      1.729000\n",
      "dtype: float64\n"
     ]
    }
   ],
   "source": [
    "Q1 = df_train.quantile(0.25)\n",
    "Q3 = df_train.quantile(0.75)\n",
    "IQR = Q3 - Q1\n",
    "print(IQR)"
   ]
  },
  {
   "cell_type": "code",
   "execution_count": 153,
   "metadata": {},
   "outputs": [],
   "source": [
    "df_train.to_csv(\"df_train.csv\", index=False)"
   ]
  },
  {
   "cell_type": "code",
   "execution_count": 154,
   "metadata": {},
   "outputs": [],
   "source": [
    "df_test.to_csv(\"df_test.csv\", index=False)"
   ]
  },
  {
   "cell_type": "markdown",
   "metadata": {},
   "source": [
    "# Train on train.csv"
   ]
  },
  {
   "cell_type": "markdown",
   "metadata": {},
   "source": [
    "![](https://builtin.com/sites/www.builtin.com/files/styles/ckeditor_optimize/public/inline-images/4_train-test-split.jpg)"
   ]
  },
  {
   "cell_type": "markdown",
   "metadata": {},
   "source": [
    "## Train, test split"
   ]
  },
  {
   "cell_type": "code",
   "execution_count": 77,
   "metadata": {},
   "outputs": [],
   "source": [
    "X = df_train.iloc[:,:-1]\n",
    "y = df_train['price']\n",
    "\n",
    "X_train, X_test, y_train, y_test = train_test_split(X, y, test_size=0.05)"
   ]
  },
  {
   "cell_type": "markdown",
   "metadata": {},
   "source": [
    "## Fit"
   ]
  },
  {
   "cell_type": "code",
   "execution_count": 78,
   "metadata": {},
   "outputs": [],
   "source": [
    "from sklearn.linear_model import Ridge, Lasso\n",
    "from sklearn.linear_model import SGDRegressor\n",
    "from sklearn.neighbors import KNeighborsRegressor\n",
    "from sklearn.ensemble import GradientBoostingRegressor\n",
    "from sklearn.svm import SVR\n",
    "from sklearn import metrics\n",
    "import numpy as np"
   ]
  },
  {
   "cell_type": "code",
   "execution_count": 72,
   "metadata": {},
   "outputs": [],
   "source": [
    "models = {\"ridge\":Ridge(),\n",
    "         \"lasso\" :Lasso(),\n",
    "          \"SGD\":SGDRegressor(),\n",
    "          \"Kneighbor\":KNeighborsRegressor(),\n",
    "          \"GBR\": GradientBoostingRegressor(),\n",
    "          \"lr\": LinearRegression(),\n",
    "          \"svr\":SVR(),\n",
    "         }"
   ]
  },
  {
   "cell_type": "code",
   "execution_count": null,
   "metadata": {},
   "outputs": [],
   "source": [
    "for name, model in models.items():\n",
    "    print(f\"Training:{name}\")\n",
    "    model.fit(X_train,y_train)"
   ]
  },
  {
   "cell_type": "code",
   "execution_count": null,
   "metadata": {},
   "outputs": [],
   "source": [
    "for name,model in models.items():\n",
    "    y_pred = model.predict(X_test)\n",
    "    print(f\"MAE for {name}: \", metrics.mean_absolute_error(y_test, y_pred))\n",
    "    print(f\"MSE for {name}: \", metrics.mean_squared_error(y_test, y_pred))\n",
    "    print(f\"RMSE for {name}: \", np.sqrt(metrics.mean_squared_error(y_test, y_pred)))\n",
    "    print(f\"R2 for {name}: \", metrics.r2_score(y_test, y_pred))\n",
    "    print(\"____________________________________\")"
   ]
  },
  {
   "cell_type": "markdown",
   "metadata": {},
   "source": [
    "# Applying same cleaning & processing to my `test.csv`"
   ]
  },
  {
   "cell_type": "code",
   "execution_count": 184,
   "metadata": {},
   "outputs": [],
   "source": [
    "model = GradientBoostingRegressor().fit(X_train,y_train)"
   ]
  },
  {
   "cell_type": "code",
   "execution_count": 185,
   "metadata": {},
   "outputs": [],
   "source": [
    "y_pred = model.predict(df_test)"
   ]
  },
  {
   "cell_type": "code",
   "execution_count": 186,
   "metadata": {},
   "outputs": [
    {
     "data": {
      "text/plain": [
       "array([7.86768535, 9.36902426, 9.72925259, ..., 8.30705849, 9.43240603,\n",
       "       9.28999464])"
      ]
     },
     "execution_count": 186,
     "metadata": {},
     "output_type": "execute_result"
    }
   ],
   "source": [
    "y_pred"
   ]
  },
  {
   "cell_type": "code",
   "execution_count": 187,
   "metadata": {},
   "outputs": [],
   "source": [
    "# test for XGBRegressor"
   ]
  },
  {
   "cell_type": "code",
   "execution_count": null,
   "metadata": {},
   "outputs": [],
   "source": [
    "from xgboost import XGBRegressor"
   ]
  },
  {
   "cell_type": "code",
   "execution_count": null,
   "metadata": {},
   "outputs": [],
   "source": [
    "model2 = XGBRegressor().fit(X_train,y_train)"
   ]
  },
  {
   "cell_type": "code",
   "execution_count": null,
   "metadata": {},
   "outputs": [],
   "source": [
    "y_pred2 = model2.predict(df_test)"
   ]
  },
  {
   "cell_type": "code",
   "execution_count": null,
   "metadata": {},
   "outputs": [],
   "source": [
    "y_pred2"
   ]
  },
  {
   "cell_type": "code",
   "execution_count": null,
   "metadata": {},
   "outputs": [],
   "source": [
    "df_test2 ['price'] = y_pred2\n",
    "df_submission2 = df_test2[[\"id\", \"price\"]] "
   ]
  },
  {
   "cell_type": "code",
   "execution_count": null,
   "metadata": {},
   "outputs": [],
   "source": [
    "df_submission2.sample(5)"
   ]
  },
  {
   "cell_type": "code",
   "execution_count": null,
   "metadata": {},
   "outputs": [],
   "source": [
    "df_submission2.to_csv(\"my_submission2.csv\", index=False)"
   ]
  },
  {
   "cell_type": "markdown",
   "metadata": {},
   "source": [
    "# Predict on the `test.csv`"
   ]
  },
  {
   "cell_type": "code",
   "execution_count": 263,
   "metadata": {},
   "outputs": [],
   "source": [
    "df_test2 = pd.read_csv(\".\\\\diamonds-databcn0722\\\\test.csv\")"
   ]
  },
  {
   "cell_type": "code",
   "execution_count": 264,
   "metadata": {},
   "outputs": [
    {
     "data": {
      "text/html": [
       "<div>\n",
       "<style scoped>\n",
       "    .dataframe tbody tr th:only-of-type {\n",
       "        vertical-align: middle;\n",
       "    }\n",
       "\n",
       "    .dataframe tbody tr th {\n",
       "        vertical-align: top;\n",
       "    }\n",
       "\n",
       "    .dataframe thead th {\n",
       "        text-align: right;\n",
       "    }\n",
       "</style>\n",
       "<table border=\"1\" class=\"dataframe\">\n",
       "  <thead>\n",
       "    <tr style=\"text-align: right;\">\n",
       "      <th></th>\n",
       "      <th>id</th>\n",
       "      <th>carat</th>\n",
       "      <th>cut</th>\n",
       "      <th>color</th>\n",
       "      <th>clarity</th>\n",
       "      <th>depth</th>\n",
       "      <th>table</th>\n",
       "      <th>x</th>\n",
       "      <th>y</th>\n",
       "      <th>z</th>\n",
       "    </tr>\n",
       "  </thead>\n",
       "  <tbody>\n",
       "    <tr>\n",
       "      <th>0</th>\n",
       "      <td>0</td>\n",
       "      <td>0.32</td>\n",
       "      <td>Ideal</td>\n",
       "      <td>I</td>\n",
       "      <td>SI1</td>\n",
       "      <td>60.5</td>\n",
       "      <td>58.0</td>\n",
       "      <td>4.43</td>\n",
       "      <td>4.49</td>\n",
       "      <td>2.70</td>\n",
       "    </tr>\n",
       "    <tr>\n",
       "      <th>1</th>\n",
       "      <td>1</td>\n",
       "      <td>1.24</td>\n",
       "      <td>Premium</td>\n",
       "      <td>I</td>\n",
       "      <td>SI1</td>\n",
       "      <td>62.9</td>\n",
       "      <td>60.0</td>\n",
       "      <td>6.80</td>\n",
       "      <td>6.74</td>\n",
       "      <td>4.26</td>\n",
       "    </tr>\n",
       "    <tr>\n",
       "      <th>2</th>\n",
       "      <td>2</td>\n",
       "      <td>1.66</td>\n",
       "      <td>Premium</td>\n",
       "      <td>D</td>\n",
       "      <td>SI1</td>\n",
       "      <td>62.0</td>\n",
       "      <td>59.0</td>\n",
       "      <td>7.55</td>\n",
       "      <td>7.60</td>\n",
       "      <td>4.70</td>\n",
       "    </tr>\n",
       "    <tr>\n",
       "      <th>3</th>\n",
       "      <td>3</td>\n",
       "      <td>0.75</td>\n",
       "      <td>Premium</td>\n",
       "      <td>D</td>\n",
       "      <td>SI2</td>\n",
       "      <td>60.6</td>\n",
       "      <td>56.0</td>\n",
       "      <td>5.94</td>\n",
       "      <td>5.90</td>\n",
       "      <td>3.59</td>\n",
       "    </tr>\n",
       "    <tr>\n",
       "      <th>4</th>\n",
       "      <td>4</td>\n",
       "      <td>1.50</td>\n",
       "      <td>Fair</td>\n",
       "      <td>E</td>\n",
       "      <td>SI2</td>\n",
       "      <td>64.8</td>\n",
       "      <td>55.0</td>\n",
       "      <td>7.26</td>\n",
       "      <td>7.15</td>\n",
       "      <td>4.67</td>\n",
       "    </tr>\n",
       "    <tr>\n",
       "      <th>...</th>\n",
       "      <td>...</td>\n",
       "      <td>...</td>\n",
       "      <td>...</td>\n",
       "      <td>...</td>\n",
       "      <td>...</td>\n",
       "      <td>...</td>\n",
       "      <td>...</td>\n",
       "      <td>...</td>\n",
       "      <td>...</td>\n",
       "      <td>...</td>\n",
       "    </tr>\n",
       "    <tr>\n",
       "      <th>13480</th>\n",
       "      <td>13480</td>\n",
       "      <td>1.10</td>\n",
       "      <td>Premium</td>\n",
       "      <td>G</td>\n",
       "      <td>SI1</td>\n",
       "      <td>59.6</td>\n",
       "      <td>60.0</td>\n",
       "      <td>6.74</td>\n",
       "      <td>6.70</td>\n",
       "      <td>4.00</td>\n",
       "    </tr>\n",
       "    <tr>\n",
       "      <th>13481</th>\n",
       "      <td>13481</td>\n",
       "      <td>0.90</td>\n",
       "      <td>Very Good</td>\n",
       "      <td>D</td>\n",
       "      <td>SI1</td>\n",
       "      <td>62.1</td>\n",
       "      <td>60.0</td>\n",
       "      <td>6.14</td>\n",
       "      <td>6.20</td>\n",
       "      <td>3.83</td>\n",
       "    </tr>\n",
       "    <tr>\n",
       "      <th>13482</th>\n",
       "      <td>13482</td>\n",
       "      <td>0.30</td>\n",
       "      <td>Ideal</td>\n",
       "      <td>F</td>\n",
       "      <td>VS2</td>\n",
       "      <td>62.1</td>\n",
       "      <td>53.3</td>\n",
       "      <td>4.30</td>\n",
       "      <td>4.32</td>\n",
       "      <td>2.68</td>\n",
       "    </tr>\n",
       "    <tr>\n",
       "      <th>13483</th>\n",
       "      <td>13483</td>\n",
       "      <td>1.25</td>\n",
       "      <td>Ideal</td>\n",
       "      <td>I</td>\n",
       "      <td>SI1</td>\n",
       "      <td>59.6</td>\n",
       "      <td>59.0</td>\n",
       "      <td>7.01</td>\n",
       "      <td>7.09</td>\n",
       "      <td>4.20</td>\n",
       "    </tr>\n",
       "    <tr>\n",
       "      <th>13484</th>\n",
       "      <td>13484</td>\n",
       "      <td>0.81</td>\n",
       "      <td>Premium</td>\n",
       "      <td>F</td>\n",
       "      <td>SI1</td>\n",
       "      <td>61.6</td>\n",
       "      <td>58.0</td>\n",
       "      <td>5.96</td>\n",
       "      <td>5.92</td>\n",
       "      <td>3.66</td>\n",
       "    </tr>\n",
       "  </tbody>\n",
       "</table>\n",
       "<p>13485 rows × 10 columns</p>\n",
       "</div>"
      ],
      "text/plain": [
       "          id  carat        cut color clarity  depth  table     x     y     z\n",
       "0          0   0.32      Ideal     I     SI1   60.5   58.0  4.43  4.49  2.70\n",
       "1          1   1.24    Premium     I     SI1   62.9   60.0  6.80  6.74  4.26\n",
       "2          2   1.66    Premium     D     SI1   62.0   59.0  7.55  7.60  4.70\n",
       "3          3   0.75    Premium     D     SI2   60.6   56.0  5.94  5.90  3.59\n",
       "4          4   1.50       Fair     E     SI2   64.8   55.0  7.26  7.15  4.67\n",
       "...      ...    ...        ...   ...     ...    ...    ...   ...   ...   ...\n",
       "13480  13480   1.10    Premium     G     SI1   59.6   60.0  6.74  6.70  4.00\n",
       "13481  13481   0.90  Very Good     D     SI1   62.1   60.0  6.14  6.20  3.83\n",
       "13482  13482   0.30      Ideal     F     VS2   62.1   53.3  4.30  4.32  2.68\n",
       "13483  13483   1.25      Ideal     I     SI1   59.6   59.0  7.01  7.09  4.20\n",
       "13484  13484   0.81    Premium     F     SI1   61.6   58.0  5.96  5.92  3.66\n",
       "\n",
       "[13485 rows x 10 columns]"
      ]
     },
     "execution_count": 264,
     "metadata": {},
     "output_type": "execute_result"
    }
   ],
   "source": [
    "df_test2"
   ]
  },
  {
   "cell_type": "markdown",
   "metadata": {},
   "source": [
    "# DF with two columns"
   ]
  },
  {
   "cell_type": "code",
   "execution_count": 188,
   "metadata": {},
   "outputs": [],
   "source": [
    "df_test2 ['price'] = y_pred \n",
    "df_submission = df_test2[[\"id\", \"price\"]] "
   ]
  },
  {
   "cell_type": "code",
   "execution_count": 189,
   "metadata": {},
   "outputs": [
    {
     "data": {
      "text/html": [
       "<div>\n",
       "<style scoped>\n",
       "    .dataframe tbody tr th:only-of-type {\n",
       "        vertical-align: middle;\n",
       "    }\n",
       "\n",
       "    .dataframe tbody tr th {\n",
       "        vertical-align: top;\n",
       "    }\n",
       "\n",
       "    .dataframe thead th {\n",
       "        text-align: right;\n",
       "    }\n",
       "</style>\n",
       "<table border=\"1\" class=\"dataframe\">\n",
       "  <thead>\n",
       "    <tr style=\"text-align: right;\">\n",
       "      <th></th>\n",
       "      <th>id</th>\n",
       "      <th>price</th>\n",
       "    </tr>\n",
       "  </thead>\n",
       "  <tbody>\n",
       "    <tr>\n",
       "      <th>7210</th>\n",
       "      <td>7210</td>\n",
       "      <td>8.731314</td>\n",
       "    </tr>\n",
       "    <tr>\n",
       "      <th>9257</th>\n",
       "      <td>9257</td>\n",
       "      <td>8.400122</td>\n",
       "    </tr>\n",
       "    <tr>\n",
       "      <th>7019</th>\n",
       "      <td>7019</td>\n",
       "      <td>8.742439</td>\n",
       "    </tr>\n",
       "    <tr>\n",
       "      <th>6560</th>\n",
       "      <td>6560</td>\n",
       "      <td>7.975881</td>\n",
       "    </tr>\n",
       "    <tr>\n",
       "      <th>4930</th>\n",
       "      <td>4930</td>\n",
       "      <td>8.690679</td>\n",
       "    </tr>\n",
       "  </tbody>\n",
       "</table>\n",
       "</div>"
      ],
      "text/plain": [
       "        id     price\n",
       "7210  7210  8.731314\n",
       "9257  9257  8.400122\n",
       "7019  7019  8.742439\n",
       "6560  6560  7.975881\n",
       "4930  4930  8.690679"
      ]
     },
     "execution_count": 189,
     "metadata": {},
     "output_type": "execute_result"
    }
   ],
   "source": [
    "df_submission.sample(5)"
   ]
  },
  {
   "cell_type": "markdown",
   "metadata": {},
   "source": [
    "# Export (index=False)"
   ]
  },
  {
   "cell_type": "code",
   "execution_count": 191,
   "metadata": {},
   "outputs": [],
   "source": [
    "df_submission.to_csv(\"my_submission7.csv\", index=False)"
   ]
  },
  {
   "cell_type": "code",
   "execution_count": 100,
   "metadata": {},
   "outputs": [
    {
     "data": {
      "text/plain": [
       "'C:\\\\Users\\\\Edgard_Cuadra\\\\OneDrive\\\\Desktop\\\\Ironhack\\\\Teachers_Notes\\\\lectures - Copy\\\\week-7'"
      ]
     },
     "execution_count": 100,
     "metadata": {},
     "output_type": "execute_result"
    }
   ],
   "source": [
    "pwd"
   ]
  },
  {
   "cell_type": "markdown",
   "metadata": {},
   "source": [
    "# PYCARET MODEL"
   ]
  },
  {
   "cell_type": "code",
   "execution_count": 265,
   "metadata": {},
   "outputs": [
    {
     "data": {
      "text/html": [
       "<style type=\"text/css\">\n",
       "#T_c9ba2_row42_col1 {\n",
       "  background-color: lightgreen;\n",
       "}\n",
       "</style>\n",
       "<table id=\"T_c9ba2\">\n",
       "  <thead>\n",
       "    <tr>\n",
       "      <th class=\"blank level0\" >&nbsp;</th>\n",
       "      <th id=\"T_c9ba2_level0_col0\" class=\"col_heading level0 col0\" >Description</th>\n",
       "      <th id=\"T_c9ba2_level0_col1\" class=\"col_heading level0 col1\" >Value</th>\n",
       "    </tr>\n",
       "  </thead>\n",
       "  <tbody>\n",
       "    <tr>\n",
       "      <th id=\"T_c9ba2_level0_row0\" class=\"row_heading level0 row0\" >0</th>\n",
       "      <td id=\"T_c9ba2_row0_col0\" class=\"data row0 col0\" >session_id</td>\n",
       "      <td id=\"T_c9ba2_row0_col1\" class=\"data row0 col1\" >123</td>\n",
       "    </tr>\n",
       "    <tr>\n",
       "      <th id=\"T_c9ba2_level0_row1\" class=\"row_heading level0 row1\" >1</th>\n",
       "      <td id=\"T_c9ba2_row1_col0\" class=\"data row1 col0\" >Target</td>\n",
       "      <td id=\"T_c9ba2_row1_col1\" class=\"data row1 col1\" >price</td>\n",
       "    </tr>\n",
       "    <tr>\n",
       "      <th id=\"T_c9ba2_level0_row2\" class=\"row_heading level0 row2\" >2</th>\n",
       "      <td id=\"T_c9ba2_row2_col0\" class=\"data row2 col0\" >Original Data</td>\n",
       "      <td id=\"T_c9ba2_row2_col1\" class=\"data row2 col1\" >(40428, 7)</td>\n",
       "    </tr>\n",
       "    <tr>\n",
       "      <th id=\"T_c9ba2_level0_row3\" class=\"row_heading level0 row3\" >3</th>\n",
       "      <td id=\"T_c9ba2_row3_col0\" class=\"data row3 col0\" >Missing Values</td>\n",
       "      <td id=\"T_c9ba2_row3_col1\" class=\"data row3 col1\" >False</td>\n",
       "    </tr>\n",
       "    <tr>\n",
       "      <th id=\"T_c9ba2_level0_row4\" class=\"row_heading level0 row4\" >4</th>\n",
       "      <td id=\"T_c9ba2_row4_col0\" class=\"data row4 col0\" >Numeric Features</td>\n",
       "      <td id=\"T_c9ba2_row4_col1\" class=\"data row4 col1\" >3</td>\n",
       "    </tr>\n",
       "    <tr>\n",
       "      <th id=\"T_c9ba2_level0_row5\" class=\"row_heading level0 row5\" >5</th>\n",
       "      <td id=\"T_c9ba2_row5_col0\" class=\"data row5 col0\" >Categorical Features</td>\n",
       "      <td id=\"T_c9ba2_row5_col1\" class=\"data row5 col1\" >3</td>\n",
       "    </tr>\n",
       "    <tr>\n",
       "      <th id=\"T_c9ba2_level0_row6\" class=\"row_heading level0 row6\" >6</th>\n",
       "      <td id=\"T_c9ba2_row6_col0\" class=\"data row6 col0\" >Ordinal Features</td>\n",
       "      <td id=\"T_c9ba2_row6_col1\" class=\"data row6 col1\" >False</td>\n",
       "    </tr>\n",
       "    <tr>\n",
       "      <th id=\"T_c9ba2_level0_row7\" class=\"row_heading level0 row7\" >7</th>\n",
       "      <td id=\"T_c9ba2_row7_col0\" class=\"data row7 col0\" >High Cardinality Features</td>\n",
       "      <td id=\"T_c9ba2_row7_col1\" class=\"data row7 col1\" >False</td>\n",
       "    </tr>\n",
       "    <tr>\n",
       "      <th id=\"T_c9ba2_level0_row8\" class=\"row_heading level0 row8\" >8</th>\n",
       "      <td id=\"T_c9ba2_row8_col0\" class=\"data row8 col0\" >High Cardinality Method</td>\n",
       "      <td id=\"T_c9ba2_row8_col1\" class=\"data row8 col1\" >None</td>\n",
       "    </tr>\n",
       "    <tr>\n",
       "      <th id=\"T_c9ba2_level0_row9\" class=\"row_heading level0 row9\" >9</th>\n",
       "      <td id=\"T_c9ba2_row9_col0\" class=\"data row9 col0\" >Transformed Train Set</td>\n",
       "      <td id=\"T_c9ba2_row9_col1\" class=\"data row9 col1\" >(28299, 23)</td>\n",
       "    </tr>\n",
       "    <tr>\n",
       "      <th id=\"T_c9ba2_level0_row10\" class=\"row_heading level0 row10\" >10</th>\n",
       "      <td id=\"T_c9ba2_row10_col0\" class=\"data row10 col0\" >Transformed Test Set</td>\n",
       "      <td id=\"T_c9ba2_row10_col1\" class=\"data row10 col1\" >(12129, 23)</td>\n",
       "    </tr>\n",
       "    <tr>\n",
       "      <th id=\"T_c9ba2_level0_row11\" class=\"row_heading level0 row11\" >11</th>\n",
       "      <td id=\"T_c9ba2_row11_col0\" class=\"data row11 col0\" >Shuffle Train-Test</td>\n",
       "      <td id=\"T_c9ba2_row11_col1\" class=\"data row11 col1\" >True</td>\n",
       "    </tr>\n",
       "    <tr>\n",
       "      <th id=\"T_c9ba2_level0_row12\" class=\"row_heading level0 row12\" >12</th>\n",
       "      <td id=\"T_c9ba2_row12_col0\" class=\"data row12 col0\" >Stratify Train-Test</td>\n",
       "      <td id=\"T_c9ba2_row12_col1\" class=\"data row12 col1\" >False</td>\n",
       "    </tr>\n",
       "    <tr>\n",
       "      <th id=\"T_c9ba2_level0_row13\" class=\"row_heading level0 row13\" >13</th>\n",
       "      <td id=\"T_c9ba2_row13_col0\" class=\"data row13 col0\" >Fold Generator</td>\n",
       "      <td id=\"T_c9ba2_row13_col1\" class=\"data row13 col1\" >KFold</td>\n",
       "    </tr>\n",
       "    <tr>\n",
       "      <th id=\"T_c9ba2_level0_row14\" class=\"row_heading level0 row14\" >14</th>\n",
       "      <td id=\"T_c9ba2_row14_col0\" class=\"data row14 col0\" >Fold Number</td>\n",
       "      <td id=\"T_c9ba2_row14_col1\" class=\"data row14 col1\" >10</td>\n",
       "    </tr>\n",
       "    <tr>\n",
       "      <th id=\"T_c9ba2_level0_row15\" class=\"row_heading level0 row15\" >15</th>\n",
       "      <td id=\"T_c9ba2_row15_col0\" class=\"data row15 col0\" >CPU Jobs</td>\n",
       "      <td id=\"T_c9ba2_row15_col1\" class=\"data row15 col1\" >-1</td>\n",
       "    </tr>\n",
       "    <tr>\n",
       "      <th id=\"T_c9ba2_level0_row16\" class=\"row_heading level0 row16\" >16</th>\n",
       "      <td id=\"T_c9ba2_row16_col0\" class=\"data row16 col0\" >Use GPU</td>\n",
       "      <td id=\"T_c9ba2_row16_col1\" class=\"data row16 col1\" >False</td>\n",
       "    </tr>\n",
       "    <tr>\n",
       "      <th id=\"T_c9ba2_level0_row17\" class=\"row_heading level0 row17\" >17</th>\n",
       "      <td id=\"T_c9ba2_row17_col0\" class=\"data row17 col0\" >Log Experiment</td>\n",
       "      <td id=\"T_c9ba2_row17_col1\" class=\"data row17 col1\" >False</td>\n",
       "    </tr>\n",
       "    <tr>\n",
       "      <th id=\"T_c9ba2_level0_row18\" class=\"row_heading level0 row18\" >18</th>\n",
       "      <td id=\"T_c9ba2_row18_col0\" class=\"data row18 col0\" >Experiment Name</td>\n",
       "      <td id=\"T_c9ba2_row18_col1\" class=\"data row18 col1\" >reg-default-name</td>\n",
       "    </tr>\n",
       "    <tr>\n",
       "      <th id=\"T_c9ba2_level0_row19\" class=\"row_heading level0 row19\" >19</th>\n",
       "      <td id=\"T_c9ba2_row19_col0\" class=\"data row19 col0\" >USI</td>\n",
       "      <td id=\"T_c9ba2_row19_col1\" class=\"data row19 col1\" >f14c</td>\n",
       "    </tr>\n",
       "    <tr>\n",
       "      <th id=\"T_c9ba2_level0_row20\" class=\"row_heading level0 row20\" >20</th>\n",
       "      <td id=\"T_c9ba2_row20_col0\" class=\"data row20 col0\" >Imputation Type</td>\n",
       "      <td id=\"T_c9ba2_row20_col1\" class=\"data row20 col1\" >simple</td>\n",
       "    </tr>\n",
       "    <tr>\n",
       "      <th id=\"T_c9ba2_level0_row21\" class=\"row_heading level0 row21\" >21</th>\n",
       "      <td id=\"T_c9ba2_row21_col0\" class=\"data row21 col0\" >Iterative Imputation Iteration</td>\n",
       "      <td id=\"T_c9ba2_row21_col1\" class=\"data row21 col1\" >None</td>\n",
       "    </tr>\n",
       "    <tr>\n",
       "      <th id=\"T_c9ba2_level0_row22\" class=\"row_heading level0 row22\" >22</th>\n",
       "      <td id=\"T_c9ba2_row22_col0\" class=\"data row22 col0\" >Numeric Imputer</td>\n",
       "      <td id=\"T_c9ba2_row22_col1\" class=\"data row22 col1\" >mean</td>\n",
       "    </tr>\n",
       "    <tr>\n",
       "      <th id=\"T_c9ba2_level0_row23\" class=\"row_heading level0 row23\" >23</th>\n",
       "      <td id=\"T_c9ba2_row23_col0\" class=\"data row23 col0\" >Iterative Imputation Numeric Model</td>\n",
       "      <td id=\"T_c9ba2_row23_col1\" class=\"data row23 col1\" >None</td>\n",
       "    </tr>\n",
       "    <tr>\n",
       "      <th id=\"T_c9ba2_level0_row24\" class=\"row_heading level0 row24\" >24</th>\n",
       "      <td id=\"T_c9ba2_row24_col0\" class=\"data row24 col0\" >Categorical Imputer</td>\n",
       "      <td id=\"T_c9ba2_row24_col1\" class=\"data row24 col1\" >constant</td>\n",
       "    </tr>\n",
       "    <tr>\n",
       "      <th id=\"T_c9ba2_level0_row25\" class=\"row_heading level0 row25\" >25</th>\n",
       "      <td id=\"T_c9ba2_row25_col0\" class=\"data row25 col0\" >Iterative Imputation Categorical Model</td>\n",
       "      <td id=\"T_c9ba2_row25_col1\" class=\"data row25 col1\" >None</td>\n",
       "    </tr>\n",
       "    <tr>\n",
       "      <th id=\"T_c9ba2_level0_row26\" class=\"row_heading level0 row26\" >26</th>\n",
       "      <td id=\"T_c9ba2_row26_col0\" class=\"data row26 col0\" >Unknown Categoricals Handling</td>\n",
       "      <td id=\"T_c9ba2_row26_col1\" class=\"data row26 col1\" >least_frequent</td>\n",
       "    </tr>\n",
       "    <tr>\n",
       "      <th id=\"T_c9ba2_level0_row27\" class=\"row_heading level0 row27\" >27</th>\n",
       "      <td id=\"T_c9ba2_row27_col0\" class=\"data row27 col0\" >Normalize</td>\n",
       "      <td id=\"T_c9ba2_row27_col1\" class=\"data row27 col1\" >False</td>\n",
       "    </tr>\n",
       "    <tr>\n",
       "      <th id=\"T_c9ba2_level0_row28\" class=\"row_heading level0 row28\" >28</th>\n",
       "      <td id=\"T_c9ba2_row28_col0\" class=\"data row28 col0\" >Normalize Method</td>\n",
       "      <td id=\"T_c9ba2_row28_col1\" class=\"data row28 col1\" >None</td>\n",
       "    </tr>\n",
       "    <tr>\n",
       "      <th id=\"T_c9ba2_level0_row29\" class=\"row_heading level0 row29\" >29</th>\n",
       "      <td id=\"T_c9ba2_row29_col0\" class=\"data row29 col0\" >Transformation</td>\n",
       "      <td id=\"T_c9ba2_row29_col1\" class=\"data row29 col1\" >False</td>\n",
       "    </tr>\n",
       "    <tr>\n",
       "      <th id=\"T_c9ba2_level0_row30\" class=\"row_heading level0 row30\" >30</th>\n",
       "      <td id=\"T_c9ba2_row30_col0\" class=\"data row30 col0\" >Transformation Method</td>\n",
       "      <td id=\"T_c9ba2_row30_col1\" class=\"data row30 col1\" >None</td>\n",
       "    </tr>\n",
       "    <tr>\n",
       "      <th id=\"T_c9ba2_level0_row31\" class=\"row_heading level0 row31\" >31</th>\n",
       "      <td id=\"T_c9ba2_row31_col0\" class=\"data row31 col0\" >PCA</td>\n",
       "      <td id=\"T_c9ba2_row31_col1\" class=\"data row31 col1\" >False</td>\n",
       "    </tr>\n",
       "    <tr>\n",
       "      <th id=\"T_c9ba2_level0_row32\" class=\"row_heading level0 row32\" >32</th>\n",
       "      <td id=\"T_c9ba2_row32_col0\" class=\"data row32 col0\" >PCA Method</td>\n",
       "      <td id=\"T_c9ba2_row32_col1\" class=\"data row32 col1\" >None</td>\n",
       "    </tr>\n",
       "    <tr>\n",
       "      <th id=\"T_c9ba2_level0_row33\" class=\"row_heading level0 row33\" >33</th>\n",
       "      <td id=\"T_c9ba2_row33_col0\" class=\"data row33 col0\" >PCA Components</td>\n",
       "      <td id=\"T_c9ba2_row33_col1\" class=\"data row33 col1\" >None</td>\n",
       "    </tr>\n",
       "    <tr>\n",
       "      <th id=\"T_c9ba2_level0_row34\" class=\"row_heading level0 row34\" >34</th>\n",
       "      <td id=\"T_c9ba2_row34_col0\" class=\"data row34 col0\" >Ignore Low Variance</td>\n",
       "      <td id=\"T_c9ba2_row34_col1\" class=\"data row34 col1\" >False</td>\n",
       "    </tr>\n",
       "    <tr>\n",
       "      <th id=\"T_c9ba2_level0_row35\" class=\"row_heading level0 row35\" >35</th>\n",
       "      <td id=\"T_c9ba2_row35_col0\" class=\"data row35 col0\" >Combine Rare Levels</td>\n",
       "      <td id=\"T_c9ba2_row35_col1\" class=\"data row35 col1\" >False</td>\n",
       "    </tr>\n",
       "    <tr>\n",
       "      <th id=\"T_c9ba2_level0_row36\" class=\"row_heading level0 row36\" >36</th>\n",
       "      <td id=\"T_c9ba2_row36_col0\" class=\"data row36 col0\" >Rare Level Threshold</td>\n",
       "      <td id=\"T_c9ba2_row36_col1\" class=\"data row36 col1\" >None</td>\n",
       "    </tr>\n",
       "    <tr>\n",
       "      <th id=\"T_c9ba2_level0_row37\" class=\"row_heading level0 row37\" >37</th>\n",
       "      <td id=\"T_c9ba2_row37_col0\" class=\"data row37 col0\" >Numeric Binning</td>\n",
       "      <td id=\"T_c9ba2_row37_col1\" class=\"data row37 col1\" >False</td>\n",
       "    </tr>\n",
       "    <tr>\n",
       "      <th id=\"T_c9ba2_level0_row38\" class=\"row_heading level0 row38\" >38</th>\n",
       "      <td id=\"T_c9ba2_row38_col0\" class=\"data row38 col0\" >Remove Outliers</td>\n",
       "      <td id=\"T_c9ba2_row38_col1\" class=\"data row38 col1\" >False</td>\n",
       "    </tr>\n",
       "    <tr>\n",
       "      <th id=\"T_c9ba2_level0_row39\" class=\"row_heading level0 row39\" >39</th>\n",
       "      <td id=\"T_c9ba2_row39_col0\" class=\"data row39 col0\" >Outliers Threshold</td>\n",
       "      <td id=\"T_c9ba2_row39_col1\" class=\"data row39 col1\" >None</td>\n",
       "    </tr>\n",
       "    <tr>\n",
       "      <th id=\"T_c9ba2_level0_row40\" class=\"row_heading level0 row40\" >40</th>\n",
       "      <td id=\"T_c9ba2_row40_col0\" class=\"data row40 col0\" >Remove Multicollinearity</td>\n",
       "      <td id=\"T_c9ba2_row40_col1\" class=\"data row40 col1\" >False</td>\n",
       "    </tr>\n",
       "    <tr>\n",
       "      <th id=\"T_c9ba2_level0_row41\" class=\"row_heading level0 row41\" >41</th>\n",
       "      <td id=\"T_c9ba2_row41_col0\" class=\"data row41 col0\" >Multicollinearity Threshold</td>\n",
       "      <td id=\"T_c9ba2_row41_col1\" class=\"data row41 col1\" >None</td>\n",
       "    </tr>\n",
       "    <tr>\n",
       "      <th id=\"T_c9ba2_level0_row42\" class=\"row_heading level0 row42\" >42</th>\n",
       "      <td id=\"T_c9ba2_row42_col0\" class=\"data row42 col0\" >Remove Perfect Collinearity</td>\n",
       "      <td id=\"T_c9ba2_row42_col1\" class=\"data row42 col1\" >True</td>\n",
       "    </tr>\n",
       "    <tr>\n",
       "      <th id=\"T_c9ba2_level0_row43\" class=\"row_heading level0 row43\" >43</th>\n",
       "      <td id=\"T_c9ba2_row43_col0\" class=\"data row43 col0\" >Clustering</td>\n",
       "      <td id=\"T_c9ba2_row43_col1\" class=\"data row43 col1\" >False</td>\n",
       "    </tr>\n",
       "    <tr>\n",
       "      <th id=\"T_c9ba2_level0_row44\" class=\"row_heading level0 row44\" >44</th>\n",
       "      <td id=\"T_c9ba2_row44_col0\" class=\"data row44 col0\" >Clustering Iteration</td>\n",
       "      <td id=\"T_c9ba2_row44_col1\" class=\"data row44 col1\" >None</td>\n",
       "    </tr>\n",
       "    <tr>\n",
       "      <th id=\"T_c9ba2_level0_row45\" class=\"row_heading level0 row45\" >45</th>\n",
       "      <td id=\"T_c9ba2_row45_col0\" class=\"data row45 col0\" >Polynomial Features</td>\n",
       "      <td id=\"T_c9ba2_row45_col1\" class=\"data row45 col1\" >False</td>\n",
       "    </tr>\n",
       "    <tr>\n",
       "      <th id=\"T_c9ba2_level0_row46\" class=\"row_heading level0 row46\" >46</th>\n",
       "      <td id=\"T_c9ba2_row46_col0\" class=\"data row46 col0\" >Polynomial Degree</td>\n",
       "      <td id=\"T_c9ba2_row46_col1\" class=\"data row46 col1\" >None</td>\n",
       "    </tr>\n",
       "    <tr>\n",
       "      <th id=\"T_c9ba2_level0_row47\" class=\"row_heading level0 row47\" >47</th>\n",
       "      <td id=\"T_c9ba2_row47_col0\" class=\"data row47 col0\" >Trignometry Features</td>\n",
       "      <td id=\"T_c9ba2_row47_col1\" class=\"data row47 col1\" >False</td>\n",
       "    </tr>\n",
       "    <tr>\n",
       "      <th id=\"T_c9ba2_level0_row48\" class=\"row_heading level0 row48\" >48</th>\n",
       "      <td id=\"T_c9ba2_row48_col0\" class=\"data row48 col0\" >Polynomial Threshold</td>\n",
       "      <td id=\"T_c9ba2_row48_col1\" class=\"data row48 col1\" >None</td>\n",
       "    </tr>\n",
       "    <tr>\n",
       "      <th id=\"T_c9ba2_level0_row49\" class=\"row_heading level0 row49\" >49</th>\n",
       "      <td id=\"T_c9ba2_row49_col0\" class=\"data row49 col0\" >Group Features</td>\n",
       "      <td id=\"T_c9ba2_row49_col1\" class=\"data row49 col1\" >False</td>\n",
       "    </tr>\n",
       "    <tr>\n",
       "      <th id=\"T_c9ba2_level0_row50\" class=\"row_heading level0 row50\" >50</th>\n",
       "      <td id=\"T_c9ba2_row50_col0\" class=\"data row50 col0\" >Feature Selection</td>\n",
       "      <td id=\"T_c9ba2_row50_col1\" class=\"data row50 col1\" >False</td>\n",
       "    </tr>\n",
       "    <tr>\n",
       "      <th id=\"T_c9ba2_level0_row51\" class=\"row_heading level0 row51\" >51</th>\n",
       "      <td id=\"T_c9ba2_row51_col0\" class=\"data row51 col0\" >Feature Selection Method</td>\n",
       "      <td id=\"T_c9ba2_row51_col1\" class=\"data row51 col1\" >classic</td>\n",
       "    </tr>\n",
       "    <tr>\n",
       "      <th id=\"T_c9ba2_level0_row52\" class=\"row_heading level0 row52\" >52</th>\n",
       "      <td id=\"T_c9ba2_row52_col0\" class=\"data row52 col0\" >Features Selection Threshold</td>\n",
       "      <td id=\"T_c9ba2_row52_col1\" class=\"data row52 col1\" >None</td>\n",
       "    </tr>\n",
       "    <tr>\n",
       "      <th id=\"T_c9ba2_level0_row53\" class=\"row_heading level0 row53\" >53</th>\n",
       "      <td id=\"T_c9ba2_row53_col0\" class=\"data row53 col0\" >Feature Interaction</td>\n",
       "      <td id=\"T_c9ba2_row53_col1\" class=\"data row53 col1\" >False</td>\n",
       "    </tr>\n",
       "    <tr>\n",
       "      <th id=\"T_c9ba2_level0_row54\" class=\"row_heading level0 row54\" >54</th>\n",
       "      <td id=\"T_c9ba2_row54_col0\" class=\"data row54 col0\" >Feature Ratio</td>\n",
       "      <td id=\"T_c9ba2_row54_col1\" class=\"data row54 col1\" >False</td>\n",
       "    </tr>\n",
       "    <tr>\n",
       "      <th id=\"T_c9ba2_level0_row55\" class=\"row_heading level0 row55\" >55</th>\n",
       "      <td id=\"T_c9ba2_row55_col0\" class=\"data row55 col0\" >Interaction Threshold</td>\n",
       "      <td id=\"T_c9ba2_row55_col1\" class=\"data row55 col1\" >None</td>\n",
       "    </tr>\n",
       "    <tr>\n",
       "      <th id=\"T_c9ba2_level0_row56\" class=\"row_heading level0 row56\" >56</th>\n",
       "      <td id=\"T_c9ba2_row56_col0\" class=\"data row56 col0\" >Transform Target</td>\n",
       "      <td id=\"T_c9ba2_row56_col1\" class=\"data row56 col1\" >False</td>\n",
       "    </tr>\n",
       "    <tr>\n",
       "      <th id=\"T_c9ba2_level0_row57\" class=\"row_heading level0 row57\" >57</th>\n",
       "      <td id=\"T_c9ba2_row57_col0\" class=\"data row57 col0\" >Transform Target Method</td>\n",
       "      <td id=\"T_c9ba2_row57_col1\" class=\"data row57 col1\" >box-cox</td>\n",
       "    </tr>\n",
       "  </tbody>\n",
       "</table>\n"
      ],
      "text/plain": [
       "<pandas.io.formats.style.Styler at 0x224379d5cd0>"
      ]
     },
     "metadata": {},
     "output_type": "display_data"
    }
   ],
   "source": [
    "best_model = setup(data = df_train, \n",
    "                   target = 'price',\n",
    "                  session_id=123)"
   ]
  },
  {
   "cell_type": "code",
   "execution_count": 266,
   "metadata": {
    "scrolled": true
   },
   "outputs": [
    {
     "data": {
      "text/html": [
       "<style type=\"text/css\">\n",
       "#T_4d949 th {\n",
       "  text-align: left;\n",
       "}\n",
       "#T_4d949_row0_col0, #T_4d949_row1_col0, #T_4d949_row1_col1, #T_4d949_row1_col2, #T_4d949_row1_col3, #T_4d949_row1_col4, #T_4d949_row1_col5, #T_4d949_row1_col6, #T_4d949_row2_col0, #T_4d949_row2_col1, #T_4d949_row2_col2, #T_4d949_row2_col3, #T_4d949_row2_col4, #T_4d949_row2_col5, #T_4d949_row2_col6, #T_4d949_row3_col0, #T_4d949_row3_col1, #T_4d949_row3_col2, #T_4d949_row3_col3, #T_4d949_row3_col4, #T_4d949_row3_col5, #T_4d949_row3_col6, #T_4d949_row4_col0, #T_4d949_row4_col1, #T_4d949_row4_col2, #T_4d949_row4_col3, #T_4d949_row4_col4, #T_4d949_row4_col5, #T_4d949_row4_col6, #T_4d949_row5_col0, #T_4d949_row5_col1, #T_4d949_row5_col2, #T_4d949_row5_col3, #T_4d949_row5_col4, #T_4d949_row5_col5, #T_4d949_row5_col6, #T_4d949_row6_col0, #T_4d949_row6_col1, #T_4d949_row6_col2, #T_4d949_row6_col3, #T_4d949_row6_col4, #T_4d949_row6_col5, #T_4d949_row6_col6, #T_4d949_row7_col0, #T_4d949_row7_col1, #T_4d949_row7_col2, #T_4d949_row7_col3, #T_4d949_row7_col4, #T_4d949_row7_col5, #T_4d949_row7_col6, #T_4d949_row8_col0, #T_4d949_row8_col1, #T_4d949_row8_col2, #T_4d949_row8_col3, #T_4d949_row8_col4, #T_4d949_row8_col5, #T_4d949_row8_col6, #T_4d949_row9_col0, #T_4d949_row9_col1, #T_4d949_row9_col2, #T_4d949_row9_col3, #T_4d949_row9_col4, #T_4d949_row9_col5, #T_4d949_row9_col6, #T_4d949_row10_col0, #T_4d949_row10_col1, #T_4d949_row10_col2, #T_4d949_row10_col3, #T_4d949_row10_col4, #T_4d949_row10_col5, #T_4d949_row10_col6, #T_4d949_row11_col0, #T_4d949_row11_col1, #T_4d949_row11_col2, #T_4d949_row11_col3, #T_4d949_row11_col4, #T_4d949_row11_col5, #T_4d949_row11_col6, #T_4d949_row12_col0, #T_4d949_row12_col1, #T_4d949_row12_col2, #T_4d949_row12_col3, #T_4d949_row12_col4, #T_4d949_row12_col5, #T_4d949_row12_col6, #T_4d949_row13_col0, #T_4d949_row13_col1, #T_4d949_row13_col2, #T_4d949_row13_col3, #T_4d949_row13_col4, #T_4d949_row13_col5, #T_4d949_row13_col6, #T_4d949_row14_col0, #T_4d949_row14_col1, #T_4d949_row14_col2, #T_4d949_row14_col3, #T_4d949_row14_col4, #T_4d949_row14_col5, #T_4d949_row14_col6, #T_4d949_row15_col0, #T_4d949_row15_col1, #T_4d949_row15_col2, #T_4d949_row15_col3, #T_4d949_row15_col4, #T_4d949_row15_col5, #T_4d949_row15_col6, #T_4d949_row16_col0, #T_4d949_row16_col1, #T_4d949_row16_col2, #T_4d949_row16_col3, #T_4d949_row16_col4, #T_4d949_row16_col5, #T_4d949_row16_col6, #T_4d949_row17_col0, #T_4d949_row17_col1, #T_4d949_row17_col2, #T_4d949_row17_col3, #T_4d949_row17_col4, #T_4d949_row17_col5, #T_4d949_row17_col6 {\n",
       "  text-align: left;\n",
       "}\n",
       "#T_4d949_row0_col1, #T_4d949_row0_col2, #T_4d949_row0_col3, #T_4d949_row0_col4, #T_4d949_row0_col5, #T_4d949_row0_col6 {\n",
       "  text-align: left;\n",
       "  background-color: yellow;\n",
       "}\n",
       "#T_4d949_row0_col7, #T_4d949_row1_col7, #T_4d949_row2_col7, #T_4d949_row3_col7, #T_4d949_row4_col7, #T_4d949_row5_col7, #T_4d949_row6_col7, #T_4d949_row7_col7, #T_4d949_row8_col7, #T_4d949_row9_col7, #T_4d949_row10_col7, #T_4d949_row11_col7, #T_4d949_row12_col7, #T_4d949_row13_col7, #T_4d949_row14_col7, #T_4d949_row15_col7, #T_4d949_row17_col7 {\n",
       "  text-align: left;\n",
       "  background-color: lightgrey;\n",
       "}\n",
       "#T_4d949_row16_col7 {\n",
       "  text-align: left;\n",
       "  background-color: yellow;\n",
       "  background-color: lightgrey;\n",
       "}\n",
       "</style>\n",
       "<table id=\"T_4d949\">\n",
       "  <thead>\n",
       "    <tr>\n",
       "      <th class=\"blank level0\" >&nbsp;</th>\n",
       "      <th id=\"T_4d949_level0_col0\" class=\"col_heading level0 col0\" >Model</th>\n",
       "      <th id=\"T_4d949_level0_col1\" class=\"col_heading level0 col1\" >MAE</th>\n",
       "      <th id=\"T_4d949_level0_col2\" class=\"col_heading level0 col2\" >MSE</th>\n",
       "      <th id=\"T_4d949_level0_col3\" class=\"col_heading level0 col3\" >RMSE</th>\n",
       "      <th id=\"T_4d949_level0_col4\" class=\"col_heading level0 col4\" >R2</th>\n",
       "      <th id=\"T_4d949_level0_col5\" class=\"col_heading level0 col5\" >RMSLE</th>\n",
       "      <th id=\"T_4d949_level0_col6\" class=\"col_heading level0 col6\" >MAPE</th>\n",
       "      <th id=\"T_4d949_level0_col7\" class=\"col_heading level0 col7\" >TT (Sec)</th>\n",
       "    </tr>\n",
       "  </thead>\n",
       "  <tbody>\n",
       "    <tr>\n",
       "      <th id=\"T_4d949_level0_row0\" class=\"row_heading level0 row0\" >lightgbm</th>\n",
       "      <td id=\"T_4d949_row0_col0\" class=\"data row0 col0\" >Light Gradient Boosting Machine</td>\n",
       "      <td id=\"T_4d949_row0_col1\" class=\"data row0 col1\" >0.0761</td>\n",
       "      <td id=\"T_4d949_row0_col2\" class=\"data row0 col2\" >0.0101</td>\n",
       "      <td id=\"T_4d949_row0_col3\" class=\"data row0 col3\" >0.1004</td>\n",
       "      <td id=\"T_4d949_row0_col4\" class=\"data row0 col4\" >0.9902</td>\n",
       "      <td id=\"T_4d949_row0_col5\" class=\"data row0 col5\" >0.0118</td>\n",
       "      <td id=\"T_4d949_row0_col6\" class=\"data row0 col6\" >0.0101</td>\n",
       "      <td id=\"T_4d949_row0_col7\" class=\"data row0 col7\" >0.0470</td>\n",
       "    </tr>\n",
       "    <tr>\n",
       "      <th id=\"T_4d949_level0_row1\" class=\"row_heading level0 row1\" >rf</th>\n",
       "      <td id=\"T_4d949_row1_col0\" class=\"data row1 col0\" >Random Forest Regressor</td>\n",
       "      <td id=\"T_4d949_row1_col1\" class=\"data row1 col1\" >0.0827</td>\n",
       "      <td id=\"T_4d949_row1_col2\" class=\"data row1 col2\" >0.0123</td>\n",
       "      <td id=\"T_4d949_row1_col3\" class=\"data row1 col3\" >0.1108</td>\n",
       "      <td id=\"T_4d949_row1_col4\" class=\"data row1 col4\" >0.9881</td>\n",
       "      <td id=\"T_4d949_row1_col5\" class=\"data row1 col5\" >0.0132</td>\n",
       "      <td id=\"T_4d949_row1_col6\" class=\"data row1 col6\" >0.0110</td>\n",
       "      <td id=\"T_4d949_row1_col7\" class=\"data row1 col7\" >0.6850</td>\n",
       "    </tr>\n",
       "    <tr>\n",
       "      <th id=\"T_4d949_level0_row2\" class=\"row_heading level0 row2\" >et</th>\n",
       "      <td id=\"T_4d949_row2_col0\" class=\"data row2 col0\" >Extra Trees Regressor</td>\n",
       "      <td id=\"T_4d949_row2_col1\" class=\"data row2 col1\" >0.0870</td>\n",
       "      <td id=\"T_4d949_row2_col2\" class=\"data row2 col2\" >0.0143</td>\n",
       "      <td id=\"T_4d949_row2_col3\" class=\"data row2 col3\" >0.1194</td>\n",
       "      <td id=\"T_4d949_row2_col4\" class=\"data row2 col4\" >0.9862</td>\n",
       "      <td id=\"T_4d949_row2_col5\" class=\"data row2 col5\" >0.0144</td>\n",
       "      <td id=\"T_4d949_row2_col6\" class=\"data row2 col6\" >0.0116</td>\n",
       "      <td id=\"T_4d949_row2_col7\" class=\"data row2 col7\" >0.7150</td>\n",
       "    </tr>\n",
       "    <tr>\n",
       "      <th id=\"T_4d949_level0_row3\" class=\"row_heading level0 row3\" >gbr</th>\n",
       "      <td id=\"T_4d949_row3_col0\" class=\"data row3 col0\" >Gradient Boosting Regressor</td>\n",
       "      <td id=\"T_4d949_row3_col1\" class=\"data row3 col1\" >0.0957</td>\n",
       "      <td id=\"T_4d949_row3_col2\" class=\"data row3 col2\" >0.0151</td>\n",
       "      <td id=\"T_4d949_row3_col3\" class=\"data row3 col3\" >0.1229</td>\n",
       "      <td id=\"T_4d949_row3_col4\" class=\"data row3 col4\" >0.9854</td>\n",
       "      <td id=\"T_4d949_row3_col5\" class=\"data row3 col5\" >0.0143</td>\n",
       "      <td id=\"T_4d949_row3_col6\" class=\"data row3 col6\" >0.0126</td>\n",
       "      <td id=\"T_4d949_row3_col7\" class=\"data row3 col7\" >0.2530</td>\n",
       "    </tr>\n",
       "    <tr>\n",
       "      <th id=\"T_4d949_level0_row4\" class=\"row_heading level0 row4\" >dt</th>\n",
       "      <td id=\"T_4d949_row4_col0\" class=\"data row4 col0\" >Decision Tree Regressor</td>\n",
       "      <td id=\"T_4d949_row4_col1\" class=\"data row4 col1\" >0.1028</td>\n",
       "      <td id=\"T_4d949_row4_col2\" class=\"data row4 col2\" >0.0200</td>\n",
       "      <td id=\"T_4d949_row4_col3\" class=\"data row4 col3\" >0.1415</td>\n",
       "      <td id=\"T_4d949_row4_col4\" class=\"data row4 col4\" >0.9806</td>\n",
       "      <td id=\"T_4d949_row4_col5\" class=\"data row4 col5\" >0.0168</td>\n",
       "      <td id=\"T_4d949_row4_col6\" class=\"data row4 col6\" >0.0136</td>\n",
       "      <td id=\"T_4d949_row4_col7\" class=\"data row4 col7\" >0.0300</td>\n",
       "    </tr>\n",
       "    <tr>\n",
       "      <th id=\"T_4d949_level0_row5\" class=\"row_heading level0 row5\" >ada</th>\n",
       "      <td id=\"T_4d949_row5_col0\" class=\"data row5 col0\" >AdaBoost Regressor</td>\n",
       "      <td id=\"T_4d949_row5_col1\" class=\"data row5 col1\" >0.1963</td>\n",
       "      <td id=\"T_4d949_row5_col2\" class=\"data row5 col2\" >0.0594</td>\n",
       "      <td id=\"T_4d949_row5_col3\" class=\"data row5 col3\" >0.2437</td>\n",
       "      <td id=\"T_4d949_row5_col4\" class=\"data row5 col4\" >0.9425</td>\n",
       "      <td id=\"T_4d949_row5_col5\" class=\"data row5 col5\" >0.0281</td>\n",
       "      <td id=\"T_4d949_row5_col6\" class=\"data row5 col6\" >0.0256</td>\n",
       "      <td id=\"T_4d949_row5_col7\" class=\"data row5 col7\" >0.2030</td>\n",
       "    </tr>\n",
       "    <tr>\n",
       "      <th id=\"T_4d949_level0_row6\" class=\"row_heading level0 row6\" >knn</th>\n",
       "      <td id=\"T_4d949_row6_col0\" class=\"data row6 col0\" >K Neighbors Regressor</td>\n",
       "      <td id=\"T_4d949_row6_col1\" class=\"data row6 col1\" >0.1795</td>\n",
       "      <td id=\"T_4d949_row6_col2\" class=\"data row6 col2\" >0.0636</td>\n",
       "      <td id=\"T_4d949_row6_col3\" class=\"data row6 col3\" >0.2521</td>\n",
       "      <td id=\"T_4d949_row6_col4\" class=\"data row6 col4\" >0.9384</td>\n",
       "      <td id=\"T_4d949_row6_col5\" class=\"data row6 col5\" >0.0300</td>\n",
       "      <td id=\"T_4d949_row6_col6\" class=\"data row6 col6\" >0.0239</td>\n",
       "      <td id=\"T_4d949_row6_col7\" class=\"data row6 col7\" >0.0840</td>\n",
       "    </tr>\n",
       "    <tr>\n",
       "      <th id=\"T_4d949_level0_row7\" class=\"row_heading level0 row7\" >ridge</th>\n",
       "      <td id=\"T_4d949_row7_col0\" class=\"data row7 col0\" >Ridge Regression</td>\n",
       "      <td id=\"T_4d949_row7_col1\" class=\"data row7 col1\" >0.2691</td>\n",
       "      <td id=\"T_4d949_row7_col2\" class=\"data row7 col2\" >0.1157</td>\n",
       "      <td id=\"T_4d949_row7_col3\" class=\"data row7 col3\" >0.3401</td>\n",
       "      <td id=\"T_4d949_row7_col4\" class=\"data row7 col4\" >0.8879</td>\n",
       "      <td id=\"T_4d949_row7_col5\" class=\"data row7 col5\" >0.0376</td>\n",
       "      <td id=\"T_4d949_row7_col6\" class=\"data row7 col6\" >0.0349</td>\n",
       "      <td id=\"T_4d949_row7_col7\" class=\"data row7 col7\" >0.0160</td>\n",
       "    </tr>\n",
       "    <tr>\n",
       "      <th id=\"T_4d949_level0_row8\" class=\"row_heading level0 row8\" >br</th>\n",
       "      <td id=\"T_4d949_row8_col0\" class=\"data row8 col0\" >Bayesian Ridge</td>\n",
       "      <td id=\"T_4d949_row8_col1\" class=\"data row8 col1\" >0.2691</td>\n",
       "      <td id=\"T_4d949_row8_col2\" class=\"data row8 col2\" >0.1157</td>\n",
       "      <td id=\"T_4d949_row8_col3\" class=\"data row8 col3\" >0.3401</td>\n",
       "      <td id=\"T_4d949_row8_col4\" class=\"data row8 col4\" >0.8879</td>\n",
       "      <td id=\"T_4d949_row8_col5\" class=\"data row8 col5\" >0.0376</td>\n",
       "      <td id=\"T_4d949_row8_col6\" class=\"data row8 col6\" >0.0349</td>\n",
       "      <td id=\"T_4d949_row8_col7\" class=\"data row8 col7\" >0.0230</td>\n",
       "    </tr>\n",
       "    <tr>\n",
       "      <th id=\"T_4d949_level0_row9\" class=\"row_heading level0 row9\" >lr</th>\n",
       "      <td id=\"T_4d949_row9_col0\" class=\"data row9 col0\" >Linear Regression</td>\n",
       "      <td id=\"T_4d949_row9_col1\" class=\"data row9 col1\" >0.2691</td>\n",
       "      <td id=\"T_4d949_row9_col2\" class=\"data row9 col2\" >0.1157</td>\n",
       "      <td id=\"T_4d949_row9_col3\" class=\"data row9 col3\" >0.3401</td>\n",
       "      <td id=\"T_4d949_row9_col4\" class=\"data row9 col4\" >0.8879</td>\n",
       "      <td id=\"T_4d949_row9_col5\" class=\"data row9 col5\" >0.0376</td>\n",
       "      <td id=\"T_4d949_row9_col6\" class=\"data row9 col6\" >0.0349</td>\n",
       "      <td id=\"T_4d949_row9_col7\" class=\"data row9 col7\" >0.0190</td>\n",
       "    </tr>\n",
       "    <tr>\n",
       "      <th id=\"T_4d949_level0_row10\" class=\"row_heading level0 row10\" >huber</th>\n",
       "      <td id=\"T_4d949_row10_col0\" class=\"data row10 col0\" >Huber Regressor</td>\n",
       "      <td id=\"T_4d949_row10_col1\" class=\"data row10 col1\" >0.2540</td>\n",
       "      <td id=\"T_4d949_row10_col2\" class=\"data row10 col2\" >0.1296</td>\n",
       "      <td id=\"T_4d949_row10_col3\" class=\"data row10 col3\" >0.3598</td>\n",
       "      <td id=\"T_4d949_row10_col4\" class=\"data row10 col4\" >0.8745</td>\n",
       "      <td id=\"T_4d949_row10_col5\" class=\"data row10 col5\" >0.0372</td>\n",
       "      <td id=\"T_4d949_row10_col6\" class=\"data row10 col6\" >0.0322</td>\n",
       "      <td id=\"T_4d949_row10_col7\" class=\"data row10 col7\" >0.1480</td>\n",
       "    </tr>\n",
       "    <tr>\n",
       "      <th id=\"T_4d949_level0_row11\" class=\"row_heading level0 row11\" >omp</th>\n",
       "      <td id=\"T_4d949_row11_col0\" class=\"data row11 col0\" >Orthogonal Matching Pursuit</td>\n",
       "      <td id=\"T_4d949_row11_col1\" class=\"data row11 col1\" >0.2985</td>\n",
       "      <td id=\"T_4d949_row11_col2\" class=\"data row11 col2\" >0.1516</td>\n",
       "      <td id=\"T_4d949_row11_col3\" class=\"data row11 col3\" >0.3893</td>\n",
       "      <td id=\"T_4d949_row11_col4\" class=\"data row11 col4\" >0.8532</td>\n",
       "      <td id=\"T_4d949_row11_col5\" class=\"data row11 col5\" >0.0431</td>\n",
       "      <td id=\"T_4d949_row11_col6\" class=\"data row11 col6\" >0.0386</td>\n",
       "      <td id=\"T_4d949_row11_col7\" class=\"data row11 col7\" >0.0180</td>\n",
       "    </tr>\n",
       "    <tr>\n",
       "      <th id=\"T_4d949_level0_row12\" class=\"row_heading level0 row12\" >par</th>\n",
       "      <td id=\"T_4d949_row12_col0\" class=\"data row12 col0\" >Passive Aggressive Regressor</td>\n",
       "      <td id=\"T_4d949_row12_col1\" class=\"data row12 col1\" >0.3328</td>\n",
       "      <td id=\"T_4d949_row12_col2\" class=\"data row12 col2\" >0.2111</td>\n",
       "      <td id=\"T_4d949_row12_col3\" class=\"data row12 col3\" >0.4553</td>\n",
       "      <td id=\"T_4d949_row12_col4\" class=\"data row12 col4\" >0.7958</td>\n",
       "      <td id=\"T_4d949_row12_col5\" class=\"data row12 col5\" >0.0484</td>\n",
       "      <td id=\"T_4d949_row12_col6\" class=\"data row12 col6\" >0.0427</td>\n",
       "      <td id=\"T_4d949_row12_col7\" class=\"data row12 col7\" >0.0230</td>\n",
       "    </tr>\n",
       "    <tr>\n",
       "      <th id=\"T_4d949_level0_row13\" class=\"row_heading level0 row13\" >en</th>\n",
       "      <td id=\"T_4d949_row13_col0\" class=\"data row13 col0\" >Elastic Net</td>\n",
       "      <td id=\"T_4d949_row13_col1\" class=\"data row13 col1\" >0.6543</td>\n",
       "      <td id=\"T_4d949_row13_col2\" class=\"data row13 col2\" >0.5738</td>\n",
       "      <td id=\"T_4d949_row13_col3\" class=\"data row13 col3\" >0.7575</td>\n",
       "      <td id=\"T_4d949_row13_col4\" class=\"data row13 col4\" >0.4444</td>\n",
       "      <td id=\"T_4d949_row13_col5\" class=\"data row13 col5\" >0.0875</td>\n",
       "      <td id=\"T_4d949_row13_col6\" class=\"data row13 col6\" >0.0863</td>\n",
       "      <td id=\"T_4d949_row13_col7\" class=\"data row13 col7\" >0.0160</td>\n",
       "    </tr>\n",
       "    <tr>\n",
       "      <th id=\"T_4d949_level0_row14\" class=\"row_heading level0 row14\" >lasso</th>\n",
       "      <td id=\"T_4d949_row14_col0\" class=\"data row14 col0\" >Lasso Regression</td>\n",
       "      <td id=\"T_4d949_row14_col1\" class=\"data row14 col1\" >0.8779</td>\n",
       "      <td id=\"T_4d949_row14_col2\" class=\"data row14 col2\" >1.0332</td>\n",
       "      <td id=\"T_4d949_row14_col3\" class=\"data row14 col3\" >1.0164</td>\n",
       "      <td id=\"T_4d949_row14_col4\" class=\"data row14 col4\" >-0.0004</td>\n",
       "      <td id=\"T_4d949_row14_col5\" class=\"data row14 col5\" >0.1162</td>\n",
       "      <td id=\"T_4d949_row14_col6\" class=\"data row14 col6\" >0.1152</td>\n",
       "      <td id=\"T_4d949_row14_col7\" class=\"data row14 col7\" >0.0190</td>\n",
       "    </tr>\n",
       "    <tr>\n",
       "      <th id=\"T_4d949_level0_row15\" class=\"row_heading level0 row15\" >llar</th>\n",
       "      <td id=\"T_4d949_row15_col0\" class=\"data row15 col0\" >Lasso Least Angle Regression</td>\n",
       "      <td id=\"T_4d949_row15_col1\" class=\"data row15 col1\" >0.8779</td>\n",
       "      <td id=\"T_4d949_row15_col2\" class=\"data row15 col2\" >1.0332</td>\n",
       "      <td id=\"T_4d949_row15_col3\" class=\"data row15 col3\" >1.0164</td>\n",
       "      <td id=\"T_4d949_row15_col4\" class=\"data row15 col4\" >-0.0004</td>\n",
       "      <td id=\"T_4d949_row15_col5\" class=\"data row15 col5\" >0.1162</td>\n",
       "      <td id=\"T_4d949_row15_col6\" class=\"data row15 col6\" >0.1152</td>\n",
       "      <td id=\"T_4d949_row15_col7\" class=\"data row15 col7\" >0.0160</td>\n",
       "    </tr>\n",
       "    <tr>\n",
       "      <th id=\"T_4d949_level0_row16\" class=\"row_heading level0 row16\" >dummy</th>\n",
       "      <td id=\"T_4d949_row16_col0\" class=\"data row16 col0\" >Dummy Regressor</td>\n",
       "      <td id=\"T_4d949_row16_col1\" class=\"data row16 col1\" >0.8779</td>\n",
       "      <td id=\"T_4d949_row16_col2\" class=\"data row16 col2\" >1.0332</td>\n",
       "      <td id=\"T_4d949_row16_col3\" class=\"data row16 col3\" >1.0164</td>\n",
       "      <td id=\"T_4d949_row16_col4\" class=\"data row16 col4\" >-0.0004</td>\n",
       "      <td id=\"T_4d949_row16_col5\" class=\"data row16 col5\" >0.1162</td>\n",
       "      <td id=\"T_4d949_row16_col6\" class=\"data row16 col6\" >0.1152</td>\n",
       "      <td id=\"T_4d949_row16_col7\" class=\"data row16 col7\" >0.0150</td>\n",
       "    </tr>\n",
       "    <tr>\n",
       "      <th id=\"T_4d949_level0_row17\" class=\"row_heading level0 row17\" >lar</th>\n",
       "      <td id=\"T_4d949_row17_col0\" class=\"data row17 col0\" >Least Angle Regression</td>\n",
       "      <td id=\"T_4d949_row17_col1\" class=\"data row17 col1\" >0.6683</td>\n",
       "      <td id=\"T_4d949_row17_col2\" class=\"data row17 col2\" >3.3253</td>\n",
       "      <td id=\"T_4d949_row17_col3\" class=\"data row17 col3\" >0.8725</td>\n",
       "      <td id=\"T_4d949_row17_col4\" class=\"data row17 col4\" >-2.1863</td>\n",
       "      <td id=\"T_4d949_row17_col5\" class=\"data row17 col5\" >0.1002</td>\n",
       "      <td id=\"T_4d949_row17_col6\" class=\"data row17 col6\" >0.0872</td>\n",
       "      <td id=\"T_4d949_row17_col7\" class=\"data row17 col7\" >0.0190</td>\n",
       "    </tr>\n",
       "  </tbody>\n",
       "</table>\n"
      ],
      "text/plain": [
       "<pandas.io.formats.style.Styler at 0x22439305880>"
      ]
     },
     "metadata": {},
     "output_type": "display_data"
    }
   ],
   "source": [
    "best_model = compare_models(fold=10,\n",
    "                            round=4, \n",
    "                            verbose=True)"
   ]
  },
  {
   "cell_type": "code",
   "execution_count": 267,
   "metadata": {},
   "outputs": [
    {
     "data": {
      "text/plain": [
       "LGBMRegressor(boosting_type='gbdt', class_weight=None, colsample_bytree=1.0,\n",
       "              importance_type='split', learning_rate=0.1, max_depth=-1,\n",
       "              min_child_samples=20, min_child_weight=0.001, min_split_gain=0.0,\n",
       "              n_estimators=100, n_jobs=-1, num_leaves=31, objective=None,\n",
       "              random_state=123, reg_alpha=0.0, reg_lambda=0.0, silent='warn',\n",
       "              subsample=1.0, subsample_for_bin=200000, subsample_freq=0)"
      ]
     },
     "execution_count": 267,
     "metadata": {},
     "output_type": "execute_result"
    }
   ],
   "source": [
    "best_model"
   ]
  },
  {
   "cell_type": "code",
   "execution_count": 268,
   "metadata": {},
   "outputs": [
    {
     "data": {
      "image/png": "[encoded data removed]",
      "text/plain": [
       "<Figure size 1080x576 with 2 Axes>"
      ]
     },
     "metadata": {},
     "output_type": "display_data"
    }
   ],
   "source": [
    "model = create_model(\"lightgbm\")\n",
    "plot_model(model, plot=\"residuals\")"
   ]
  },
  {
   "cell_type": "code",
   "execution_count": 269,
   "metadata": {},
   "outputs": [
    {
     "data": {
      "text/plain": [
       "LGBMRegressor(boosting_type='gbdt', class_weight=None, colsample_bytree=1.0,\n",
       "              importance_type='split', learning_rate=0.1, max_depth=-1,\n",
       "              min_child_samples=20, min_child_weight=0.001, min_split_gain=0.0,\n",
       "              n_estimators=100, n_jobs=-1, num_leaves=31, objective=None,\n",
       "              random_state=123, reg_alpha=0.0, reg_lambda=0.0, silent='warn',\n",
       "              subsample=1.0, subsample_for_bin=200000, subsample_freq=0)"
      ]
     },
     "execution_count": 269,
     "metadata": {},
     "output_type": "execute_result"
    }
   ],
   "source": [
    "best_model"
   ]
  },
  {
   "cell_type": "code",
   "execution_count": 270,
   "metadata": {},
   "outputs": [
    {
     "data": {
      "text/plain": [
       "LGBMRegressor(boosting_type='gbdt', class_weight=None, colsample_bytree=1.0,\n",
       "              importance_type='split', learning_rate=0.1, max_depth=-1,\n",
       "              min_child_samples=20, min_child_weight=0.001, min_split_gain=0.0,\n",
       "              n_estimators=100, n_jobs=-1, num_leaves=31, objective=None,\n",
       "              random_state=123, reg_alpha=0.0, reg_lambda=0.0, silent='warn',\n",
       "              subsample=1.0, subsample_for_bin=200000, subsample_freq=0)"
      ]
     },
     "execution_count": 270,
     "metadata": {},
     "output_type": "execute_result"
    }
   ],
   "source": [
    "model"
   ]
  },
  {
   "cell_type": "code",
   "execution_count": 271,
   "metadata": {},
   "outputs": [
    {
     "data": {
      "text/html": [
       "<style type=\"text/css\">\n",
       "</style>\n",
       "<table id=\"T_c5d41\">\n",
       "  <thead>\n",
       "    <tr>\n",
       "      <th class=\"blank level0\" >&nbsp;</th>\n",
       "      <th id=\"T_c5d41_level0_col0\" class=\"col_heading level0 col0\" >Model</th>\n",
       "      <th id=\"T_c5d41_level0_col1\" class=\"col_heading level0 col1\" >MAE</th>\n",
       "      <th id=\"T_c5d41_level0_col2\" class=\"col_heading level0 col2\" >MSE</th>\n",
       "      <th id=\"T_c5d41_level0_col3\" class=\"col_heading level0 col3\" >RMSE</th>\n",
       "      <th id=\"T_c5d41_level0_col4\" class=\"col_heading level0 col4\" >R2</th>\n",
       "      <th id=\"T_c5d41_level0_col5\" class=\"col_heading level0 col5\" >RMSLE</th>\n",
       "      <th id=\"T_c5d41_level0_col6\" class=\"col_heading level0 col6\" >MAPE</th>\n",
       "    </tr>\n",
       "  </thead>\n",
       "  <tbody>\n",
       "    <tr>\n",
       "      <th id=\"T_c5d41_level0_row0\" class=\"row_heading level0 row0\" >0</th>\n",
       "      <td id=\"T_c5d41_row0_col0\" class=\"data row0 col0\" >Light Gradient Boosting Machine</td>\n",
       "      <td id=\"T_c5d41_row0_col1\" class=\"data row0 col1\" >0.0756</td>\n",
       "      <td id=\"T_c5d41_row0_col2\" class=\"data row0 col2\" >0.0098</td>\n",
       "      <td id=\"T_c5d41_row0_col3\" class=\"data row0 col3\" >0.0991</td>\n",
       "      <td id=\"T_c5d41_row0_col4\" class=\"data row0 col4\" >0.9905</td>\n",
       "      <td id=\"T_c5d41_row0_col5\" class=\"data row0 col5\" >0.0116</td>\n",
       "      <td id=\"T_c5d41_row0_col6\" class=\"data row0 col6\" >0.0100</td>\n",
       "    </tr>\n",
       "  </tbody>\n",
       "</table>\n"
      ],
      "text/plain": [
       "<pandas.io.formats.style.Styler at 0x2243da6b4c0>"
      ]
     },
     "metadata": {},
     "output_type": "display_data"
    },
    {
     "data": {
      "text/html": [
       "<div>\n",
       "<style scoped>\n",
       "    .dataframe tbody tr th:only-of-type {\n",
       "        vertical-align: middle;\n",
       "    }\n",
       "\n",
       "    .dataframe tbody tr th {\n",
       "        vertical-align: top;\n",
       "    }\n",
       "\n",
       "    .dataframe thead th {\n",
       "        text-align: right;\n",
       "    }\n",
       "</style>\n",
       "<table border=\"1\" class=\"dataframe\">\n",
       "  <thead>\n",
       "    <tr style=\"text-align: right;\">\n",
       "      <th></th>\n",
       "      <th>carat</th>\n",
       "      <th>depth</th>\n",
       "      <th>table</th>\n",
       "      <th>cut_1</th>\n",
       "      <th>cut_2</th>\n",
       "      <th>cut_3</th>\n",
       "      <th>cut_4</th>\n",
       "      <th>cut_5</th>\n",
       "      <th>color_1</th>\n",
       "      <th>color_2</th>\n",
       "      <th>...</th>\n",
       "      <th>clarity_1</th>\n",
       "      <th>clarity_2</th>\n",
       "      <th>clarity_3</th>\n",
       "      <th>clarity_4</th>\n",
       "      <th>clarity_5</th>\n",
       "      <th>clarity_6</th>\n",
       "      <th>clarity_7</th>\n",
       "      <th>clarity_8</th>\n",
       "      <th>price</th>\n",
       "      <th>Label</th>\n",
       "    </tr>\n",
       "  </thead>\n",
       "  <tbody>\n",
       "    <tr>\n",
       "      <th>0</th>\n",
       "      <td>-0.582852</td>\n",
       "      <td>-0.033027</td>\n",
       "      <td>-1.101269</td>\n",
       "      <td>0.0</td>\n",
       "      <td>0.0</td>\n",
       "      <td>0.0</td>\n",
       "      <td>0.0</td>\n",
       "      <td>1.0</td>\n",
       "      <td>0.0</td>\n",
       "      <td>0.0</td>\n",
       "      <td>...</td>\n",
       "      <td>0.0</td>\n",
       "      <td>0.0</td>\n",
       "      <td>1.0</td>\n",
       "      <td>0.0</td>\n",
       "      <td>0.0</td>\n",
       "      <td>0.0</td>\n",
       "      <td>0.0</td>\n",
       "      <td>0.0</td>\n",
       "      <td>7.127</td>\n",
       "      <td>7.153623</td>\n",
       "    </tr>\n",
       "    <tr>\n",
       "      <th>1</th>\n",
       "      <td>-0.940291</td>\n",
       "      <td>0.177809</td>\n",
       "      <td>0.696322</td>\n",
       "      <td>0.0</td>\n",
       "      <td>0.0</td>\n",
       "      <td>0.0</td>\n",
       "      <td>1.0</td>\n",
       "      <td>0.0</td>\n",
       "      <td>0.0</td>\n",
       "      <td>0.0</td>\n",
       "      <td>...</td>\n",
       "      <td>0.0</td>\n",
       "      <td>0.0</td>\n",
       "      <td>0.0</td>\n",
       "      <td>1.0</td>\n",
       "      <td>0.0</td>\n",
       "      <td>0.0</td>\n",
       "      <td>0.0</td>\n",
       "      <td>0.0</td>\n",
       "      <td>6.809</td>\n",
       "      <td>6.691733</td>\n",
       "    </tr>\n",
       "    <tr>\n",
       "      <th>2</th>\n",
       "      <td>-0.835162</td>\n",
       "      <td>0.037252</td>\n",
       "      <td>-1.101269</td>\n",
       "      <td>0.0</td>\n",
       "      <td>0.0</td>\n",
       "      <td>0.0</td>\n",
       "      <td>0.0</td>\n",
       "      <td>1.0</td>\n",
       "      <td>0.0</td>\n",
       "      <td>0.0</td>\n",
       "      <td>...</td>\n",
       "      <td>0.0</td>\n",
       "      <td>0.0</td>\n",
       "      <td>1.0</td>\n",
       "      <td>0.0</td>\n",
       "      <td>0.0</td>\n",
       "      <td>0.0</td>\n",
       "      <td>0.0</td>\n",
       "      <td>0.0</td>\n",
       "      <td>6.898</td>\n",
       "      <td>6.765615</td>\n",
       "    </tr>\n",
       "    <tr>\n",
       "      <th>3</th>\n",
       "      <td>-0.477723</td>\n",
       "      <td>-0.103306</td>\n",
       "      <td>-0.651871</td>\n",
       "      <td>0.0</td>\n",
       "      <td>0.0</td>\n",
       "      <td>0.0</td>\n",
       "      <td>0.0</td>\n",
       "      <td>1.0</td>\n",
       "      <td>0.0</td>\n",
       "      <td>0.0</td>\n",
       "      <td>...</td>\n",
       "      <td>0.0</td>\n",
       "      <td>0.0</td>\n",
       "      <td>0.0</td>\n",
       "      <td>1.0</td>\n",
       "      <td>0.0</td>\n",
       "      <td>0.0</td>\n",
       "      <td>0.0</td>\n",
       "      <td>0.0</td>\n",
       "      <td>7.523</td>\n",
       "      <td>7.543247</td>\n",
       "    </tr>\n",
       "    <tr>\n",
       "      <th>4</th>\n",
       "      <td>-0.162335</td>\n",
       "      <td>0.177809</td>\n",
       "      <td>1.145719</td>\n",
       "      <td>0.0</td>\n",
       "      <td>0.0</td>\n",
       "      <td>0.0</td>\n",
       "      <td>1.0</td>\n",
       "      <td>0.0</td>\n",
       "      <td>0.0</td>\n",
       "      <td>0.0</td>\n",
       "      <td>...</td>\n",
       "      <td>0.0</td>\n",
       "      <td>0.0</td>\n",
       "      <td>1.0</td>\n",
       "      <td>0.0</td>\n",
       "      <td>0.0</td>\n",
       "      <td>0.0</td>\n",
       "      <td>0.0</td>\n",
       "      <td>0.0</td>\n",
       "      <td>7.768</td>\n",
       "      <td>7.809375</td>\n",
       "    </tr>\n",
       "    <tr>\n",
       "      <th>...</th>\n",
       "      <td>...</td>\n",
       "      <td>...</td>\n",
       "      <td>...</td>\n",
       "      <td>...</td>\n",
       "      <td>...</td>\n",
       "      <td>...</td>\n",
       "      <td>...</td>\n",
       "      <td>...</td>\n",
       "      <td>...</td>\n",
       "      <td>...</td>\n",
       "      <td>...</td>\n",
       "      <td>...</td>\n",
       "      <td>...</td>\n",
       "      <td>...</td>\n",
       "      <td>...</td>\n",
       "      <td>...</td>\n",
       "      <td>...</td>\n",
       "      <td>...</td>\n",
       "      <td>...</td>\n",
       "      <td>...</td>\n",
       "      <td>...</td>\n",
       "    </tr>\n",
       "    <tr>\n",
       "      <th>12124</th>\n",
       "      <td>-1.045420</td>\n",
       "      <td>0.248088</td>\n",
       "      <td>-0.202473</td>\n",
       "      <td>0.0</td>\n",
       "      <td>0.0</td>\n",
       "      <td>0.0</td>\n",
       "      <td>0.0</td>\n",
       "      <td>1.0</td>\n",
       "      <td>0.0</td>\n",
       "      <td>0.0</td>\n",
       "      <td>...</td>\n",
       "      <td>0.0</td>\n",
       "      <td>0.0</td>\n",
       "      <td>0.0</td>\n",
       "      <td>0.0</td>\n",
       "      <td>0.0</td>\n",
       "      <td>0.0</td>\n",
       "      <td>0.0</td>\n",
       "      <td>1.0</td>\n",
       "      <td>6.760</td>\n",
       "      <td>6.769150</td>\n",
       "    </tr>\n",
       "    <tr>\n",
       "      <th>12125</th>\n",
       "      <td>-1.045420</td>\n",
       "      <td>0.248088</td>\n",
       "      <td>-2.000064</td>\n",
       "      <td>0.0</td>\n",
       "      <td>0.0</td>\n",
       "      <td>0.0</td>\n",
       "      <td>0.0</td>\n",
       "      <td>1.0</td>\n",
       "      <td>0.0</td>\n",
       "      <td>0.0</td>\n",
       "      <td>...</td>\n",
       "      <td>0.0</td>\n",
       "      <td>0.0</td>\n",
       "      <td>1.0</td>\n",
       "      <td>0.0</td>\n",
       "      <td>0.0</td>\n",
       "      <td>0.0</td>\n",
       "      <td>0.0</td>\n",
       "      <td>0.0</td>\n",
       "      <td>6.045</td>\n",
       "      <td>6.208977</td>\n",
       "    </tr>\n",
       "    <tr>\n",
       "      <th>12126</th>\n",
       "      <td>0.026897</td>\n",
       "      <td>-0.946652</td>\n",
       "      <td>0.696322</td>\n",
       "      <td>0.0</td>\n",
       "      <td>0.0</td>\n",
       "      <td>1.0</td>\n",
       "      <td>0.0</td>\n",
       "      <td>0.0</td>\n",
       "      <td>1.0</td>\n",
       "      <td>0.0</td>\n",
       "      <td>...</td>\n",
       "      <td>0.0</td>\n",
       "      <td>0.0</td>\n",
       "      <td>0.0</td>\n",
       "      <td>1.0</td>\n",
       "      <td>0.0</td>\n",
       "      <td>0.0</td>\n",
       "      <td>0.0</td>\n",
       "      <td>0.0</td>\n",
       "      <td>7.733</td>\n",
       "      <td>7.722261</td>\n",
       "    </tr>\n",
       "    <tr>\n",
       "      <th>12127</th>\n",
       "      <td>1.919221</td>\n",
       "      <td>-0.103306</td>\n",
       "      <td>0.696322</td>\n",
       "      <td>0.0</td>\n",
       "      <td>0.0</td>\n",
       "      <td>0.0</td>\n",
       "      <td>0.0</td>\n",
       "      <td>1.0</td>\n",
       "      <td>1.0</td>\n",
       "      <td>0.0</td>\n",
       "      <td>...</td>\n",
       "      <td>0.0</td>\n",
       "      <td>0.0</td>\n",
       "      <td>0.0</td>\n",
       "      <td>0.0</td>\n",
       "      <td>0.0</td>\n",
       "      <td>1.0</td>\n",
       "      <td>0.0</td>\n",
       "      <td>0.0</td>\n",
       "      <td>9.301</td>\n",
       "      <td>9.337301</td>\n",
       "    </tr>\n",
       "    <tr>\n",
       "      <th>12128</th>\n",
       "      <td>1.561782</td>\n",
       "      <td>0.458925</td>\n",
       "      <td>0.696322</td>\n",
       "      <td>0.0</td>\n",
       "      <td>0.0</td>\n",
       "      <td>0.0</td>\n",
       "      <td>1.0</td>\n",
       "      <td>0.0</td>\n",
       "      <td>0.0</td>\n",
       "      <td>0.0</td>\n",
       "      <td>...</td>\n",
       "      <td>0.0</td>\n",
       "      <td>0.0</td>\n",
       "      <td>0.0</td>\n",
       "      <td>1.0</td>\n",
       "      <td>0.0</td>\n",
       "      <td>0.0</td>\n",
       "      <td>0.0</td>\n",
       "      <td>0.0</td>\n",
       "      <td>9.587</td>\n",
       "      <td>9.535884</td>\n",
       "    </tr>\n",
       "  </tbody>\n",
       "</table>\n",
       "<p>12129 rows × 25 columns</p>\n",
       "</div>"
      ],
      "text/plain": [
       "          carat     depth     table  cut_1  cut_2  cut_3  cut_4  cut_5  \\\n",
       "0     -0.582852 -0.033027 -1.101269    0.0    0.0    0.0    0.0    1.0   \n",
       "1     -0.940291  0.177809  0.696322    0.0    0.0    0.0    1.0    0.0   \n",
       "2     -0.835162  0.037252 -1.101269    0.0    0.0    0.0    0.0    1.0   \n",
       "3     -0.477723 -0.103306 -0.651871    0.0    0.0    0.0    0.0    1.0   \n",
       "4     -0.162335  0.177809  1.145719    0.0    0.0    0.0    1.0    0.0   \n",
       "...         ...       ...       ...    ...    ...    ...    ...    ...   \n",
       "12124 -1.045420  0.248088 -0.202473    0.0    0.0    0.0    0.0    1.0   \n",
       "12125 -1.045420  0.248088 -2.000064    0.0    0.0    0.0    0.0    1.0   \n",
       "12126  0.026897 -0.946652  0.696322    0.0    0.0    1.0    0.0    0.0   \n",
       "12127  1.919221 -0.103306  0.696322    0.0    0.0    0.0    0.0    1.0   \n",
       "12128  1.561782  0.458925  0.696322    0.0    0.0    0.0    1.0    0.0   \n",
       "\n",
       "       color_1  color_2  ...  clarity_1  clarity_2  clarity_3  clarity_4  \\\n",
       "0          0.0      0.0  ...        0.0        0.0        1.0        0.0   \n",
       "1          0.0      0.0  ...        0.0        0.0        0.0        1.0   \n",
       "2          0.0      0.0  ...        0.0        0.0        1.0        0.0   \n",
       "3          0.0      0.0  ...        0.0        0.0        0.0        1.0   \n",
       "4          0.0      0.0  ...        0.0        0.0        1.0        0.0   \n",
       "...        ...      ...  ...        ...        ...        ...        ...   \n",
       "12124      0.0      0.0  ...        0.0        0.0        0.0        0.0   \n",
       "12125      0.0      0.0  ...        0.0        0.0        1.0        0.0   \n",
       "12126      1.0      0.0  ...        0.0        0.0        0.0        1.0   \n",
       "12127      1.0      0.0  ...        0.0        0.0        0.0        0.0   \n",
       "12128      0.0      0.0  ...        0.0        0.0        0.0        1.0   \n",
       "\n",
       "       clarity_5  clarity_6  clarity_7  clarity_8  price     Label  \n",
       "0            0.0        0.0        0.0        0.0  7.127  7.153623  \n",
       "1            0.0        0.0        0.0        0.0  6.809  6.691733  \n",
       "2            0.0        0.0        0.0        0.0  6.898  6.765615  \n",
       "3            0.0        0.0        0.0        0.0  7.523  7.543247  \n",
       "4            0.0        0.0        0.0        0.0  7.768  7.809375  \n",
       "...          ...        ...        ...        ...    ...       ...  \n",
       "12124        0.0        0.0        0.0        1.0  6.760  6.769150  \n",
       "12125        0.0        0.0        0.0        0.0  6.045  6.208977  \n",
       "12126        0.0        0.0        0.0        0.0  7.733  7.722261  \n",
       "12127        0.0        1.0        0.0        0.0  9.301  9.337301  \n",
       "12128        0.0        0.0        0.0        0.0  9.587  9.535884  \n",
       "\n",
       "[12129 rows x 25 columns]"
      ]
     },
     "execution_count": 271,
     "metadata": {},
     "output_type": "execute_result"
    }
   ],
   "source": [
    "predict_model(best_model)"
   ]
  },
  {
   "cell_type": "code",
   "execution_count": 272,
   "metadata": {},
   "outputs": [],
   "source": [
    "final_lightgbm = finalize_model(best_model)"
   ]
  },
  {
   "cell_type": "code",
   "execution_count": 273,
   "metadata": {},
   "outputs": [
    {
     "data": {
      "text/html": [
       "<style type=\"text/css\">\n",
       "</style>\n",
       "<table id=\"T_6f14b\">\n",
       "  <thead>\n",
       "    <tr>\n",
       "      <th class=\"blank level0\" >&nbsp;</th>\n",
       "      <th id=\"T_6f14b_level0_col0\" class=\"col_heading level0 col0\" >Model</th>\n",
       "      <th id=\"T_6f14b_level0_col1\" class=\"col_heading level0 col1\" >MAE</th>\n",
       "      <th id=\"T_6f14b_level0_col2\" class=\"col_heading level0 col2\" >MSE</th>\n",
       "      <th id=\"T_6f14b_level0_col3\" class=\"col_heading level0 col3\" >RMSE</th>\n",
       "      <th id=\"T_6f14b_level0_col4\" class=\"col_heading level0 col4\" >R2</th>\n",
       "      <th id=\"T_6f14b_level0_col5\" class=\"col_heading level0 col5\" >RMSLE</th>\n",
       "      <th id=\"T_6f14b_level0_col6\" class=\"col_heading level0 col6\" >MAPE</th>\n",
       "    </tr>\n",
       "  </thead>\n",
       "  <tbody>\n",
       "    <tr>\n",
       "      <th id=\"T_6f14b_level0_row0\" class=\"row_heading level0 row0\" >0</th>\n",
       "      <td id=\"T_6f14b_row0_col0\" class=\"data row0 col0\" >Light Gradient Boosting Machine</td>\n",
       "      <td id=\"T_6f14b_row0_col1\" class=\"data row0 col1\" >0.0734</td>\n",
       "      <td id=\"T_6f14b_row0_col2\" class=\"data row0 col2\" >0.0092</td>\n",
       "      <td id=\"T_6f14b_row0_col3\" class=\"data row0 col3\" >0.0961</td>\n",
       "      <td id=\"T_6f14b_row0_col4\" class=\"data row0 col4\" >0.9911</td>\n",
       "      <td id=\"T_6f14b_row0_col5\" class=\"data row0 col5\" >0.0113</td>\n",
       "      <td id=\"T_6f14b_row0_col6\" class=\"data row0 col6\" >0.0097</td>\n",
       "    </tr>\n",
       "  </tbody>\n",
       "</table>\n"
      ],
      "text/plain": [
       "<pandas.io.formats.style.Styler at 0x224399b6790>"
      ]
     },
     "metadata": {},
     "output_type": "display_data"
    },
    {
     "data": {
      "text/html": [
       "<div>\n",
       "<style scoped>\n",
       "    .dataframe tbody tr th:only-of-type {\n",
       "        vertical-align: middle;\n",
       "    }\n",
       "\n",
       "    .dataframe tbody tr th {\n",
       "        vertical-align: top;\n",
       "    }\n",
       "\n",
       "    .dataframe thead th {\n",
       "        text-align: right;\n",
       "    }\n",
       "</style>\n",
       "<table border=\"1\" class=\"dataframe\">\n",
       "  <thead>\n",
       "    <tr style=\"text-align: right;\">\n",
       "      <th></th>\n",
       "      <th>carat</th>\n",
       "      <th>depth</th>\n",
       "      <th>table</th>\n",
       "      <th>cut_1</th>\n",
       "      <th>cut_2</th>\n",
       "      <th>cut_3</th>\n",
       "      <th>cut_4</th>\n",
       "      <th>cut_5</th>\n",
       "      <th>color_1</th>\n",
       "      <th>color_2</th>\n",
       "      <th>...</th>\n",
       "      <th>clarity_1</th>\n",
       "      <th>clarity_2</th>\n",
       "      <th>clarity_3</th>\n",
       "      <th>clarity_4</th>\n",
       "      <th>clarity_5</th>\n",
       "      <th>clarity_6</th>\n",
       "      <th>clarity_7</th>\n",
       "      <th>clarity_8</th>\n",
       "      <th>price</th>\n",
       "      <th>Label</th>\n",
       "    </tr>\n",
       "  </thead>\n",
       "  <tbody>\n",
       "    <tr>\n",
       "      <th>0</th>\n",
       "      <td>-0.582852</td>\n",
       "      <td>-0.033027</td>\n",
       "      <td>-1.101269</td>\n",
       "      <td>0.0</td>\n",
       "      <td>0.0</td>\n",
       "      <td>0.0</td>\n",
       "      <td>0.0</td>\n",
       "      <td>1.0</td>\n",
       "      <td>0.0</td>\n",
       "      <td>0.0</td>\n",
       "      <td>...</td>\n",
       "      <td>0.0</td>\n",
       "      <td>0.0</td>\n",
       "      <td>1.0</td>\n",
       "      <td>0.0</td>\n",
       "      <td>0.0</td>\n",
       "      <td>0.0</td>\n",
       "      <td>0.0</td>\n",
       "      <td>0.0</td>\n",
       "      <td>7.127</td>\n",
       "      <td>7.153554</td>\n",
       "    </tr>\n",
       "    <tr>\n",
       "      <th>1</th>\n",
       "      <td>-0.940291</td>\n",
       "      <td>0.177809</td>\n",
       "      <td>0.696322</td>\n",
       "      <td>0.0</td>\n",
       "      <td>0.0</td>\n",
       "      <td>0.0</td>\n",
       "      <td>1.0</td>\n",
       "      <td>0.0</td>\n",
       "      <td>0.0</td>\n",
       "      <td>0.0</td>\n",
       "      <td>...</td>\n",
       "      <td>0.0</td>\n",
       "      <td>0.0</td>\n",
       "      <td>0.0</td>\n",
       "      <td>1.0</td>\n",
       "      <td>0.0</td>\n",
       "      <td>0.0</td>\n",
       "      <td>0.0</td>\n",
       "      <td>0.0</td>\n",
       "      <td>6.809</td>\n",
       "      <td>6.703894</td>\n",
       "    </tr>\n",
       "    <tr>\n",
       "      <th>2</th>\n",
       "      <td>-0.835162</td>\n",
       "      <td>0.037252</td>\n",
       "      <td>-1.101269</td>\n",
       "      <td>0.0</td>\n",
       "      <td>0.0</td>\n",
       "      <td>0.0</td>\n",
       "      <td>0.0</td>\n",
       "      <td>1.0</td>\n",
       "      <td>0.0</td>\n",
       "      <td>0.0</td>\n",
       "      <td>...</td>\n",
       "      <td>0.0</td>\n",
       "      <td>0.0</td>\n",
       "      <td>1.0</td>\n",
       "      <td>0.0</td>\n",
       "      <td>0.0</td>\n",
       "      <td>0.0</td>\n",
       "      <td>0.0</td>\n",
       "      <td>0.0</td>\n",
       "      <td>6.898</td>\n",
       "      <td>6.761102</td>\n",
       "    </tr>\n",
       "    <tr>\n",
       "      <th>3</th>\n",
       "      <td>-0.477723</td>\n",
       "      <td>-0.103306</td>\n",
       "      <td>-0.651871</td>\n",
       "      <td>0.0</td>\n",
       "      <td>0.0</td>\n",
       "      <td>0.0</td>\n",
       "      <td>0.0</td>\n",
       "      <td>1.0</td>\n",
       "      <td>0.0</td>\n",
       "      <td>0.0</td>\n",
       "      <td>...</td>\n",
       "      <td>0.0</td>\n",
       "      <td>0.0</td>\n",
       "      <td>0.0</td>\n",
       "      <td>1.0</td>\n",
       "      <td>0.0</td>\n",
       "      <td>0.0</td>\n",
       "      <td>0.0</td>\n",
       "      <td>0.0</td>\n",
       "      <td>7.523</td>\n",
       "      <td>7.557800</td>\n",
       "    </tr>\n",
       "    <tr>\n",
       "      <th>4</th>\n",
       "      <td>-0.162335</td>\n",
       "      <td>0.177809</td>\n",
       "      <td>1.145719</td>\n",
       "      <td>0.0</td>\n",
       "      <td>0.0</td>\n",
       "      <td>0.0</td>\n",
       "      <td>1.0</td>\n",
       "      <td>0.0</td>\n",
       "      <td>0.0</td>\n",
       "      <td>0.0</td>\n",
       "      <td>...</td>\n",
       "      <td>0.0</td>\n",
       "      <td>0.0</td>\n",
       "      <td>1.0</td>\n",
       "      <td>0.0</td>\n",
       "      <td>0.0</td>\n",
       "      <td>0.0</td>\n",
       "      <td>0.0</td>\n",
       "      <td>0.0</td>\n",
       "      <td>7.768</td>\n",
       "      <td>7.808232</td>\n",
       "    </tr>\n",
       "    <tr>\n",
       "      <th>...</th>\n",
       "      <td>...</td>\n",
       "      <td>...</td>\n",
       "      <td>...</td>\n",
       "      <td>...</td>\n",
       "      <td>...</td>\n",
       "      <td>...</td>\n",
       "      <td>...</td>\n",
       "      <td>...</td>\n",
       "      <td>...</td>\n",
       "      <td>...</td>\n",
       "      <td>...</td>\n",
       "      <td>...</td>\n",
       "      <td>...</td>\n",
       "      <td>...</td>\n",
       "      <td>...</td>\n",
       "      <td>...</td>\n",
       "      <td>...</td>\n",
       "      <td>...</td>\n",
       "      <td>...</td>\n",
       "      <td>...</td>\n",
       "      <td>...</td>\n",
       "    </tr>\n",
       "    <tr>\n",
       "      <th>12124</th>\n",
       "      <td>-1.045420</td>\n",
       "      <td>0.248088</td>\n",
       "      <td>-0.202473</td>\n",
       "      <td>0.0</td>\n",
       "      <td>0.0</td>\n",
       "      <td>0.0</td>\n",
       "      <td>0.0</td>\n",
       "      <td>1.0</td>\n",
       "      <td>0.0</td>\n",
       "      <td>0.0</td>\n",
       "      <td>...</td>\n",
       "      <td>0.0</td>\n",
       "      <td>0.0</td>\n",
       "      <td>0.0</td>\n",
       "      <td>0.0</td>\n",
       "      <td>0.0</td>\n",
       "      <td>0.0</td>\n",
       "      <td>0.0</td>\n",
       "      <td>1.0</td>\n",
       "      <td>6.760</td>\n",
       "      <td>6.772535</td>\n",
       "    </tr>\n",
       "    <tr>\n",
       "      <th>12125</th>\n",
       "      <td>-1.045420</td>\n",
       "      <td>0.248088</td>\n",
       "      <td>-2.000064</td>\n",
       "      <td>0.0</td>\n",
       "      <td>0.0</td>\n",
       "      <td>0.0</td>\n",
       "      <td>0.0</td>\n",
       "      <td>1.0</td>\n",
       "      <td>0.0</td>\n",
       "      <td>0.0</td>\n",
       "      <td>...</td>\n",
       "      <td>0.0</td>\n",
       "      <td>0.0</td>\n",
       "      <td>1.0</td>\n",
       "      <td>0.0</td>\n",
       "      <td>0.0</td>\n",
       "      <td>0.0</td>\n",
       "      <td>0.0</td>\n",
       "      <td>0.0</td>\n",
       "      <td>6.045</td>\n",
       "      <td>6.191409</td>\n",
       "    </tr>\n",
       "    <tr>\n",
       "      <th>12126</th>\n",
       "      <td>0.026897</td>\n",
       "      <td>-0.946652</td>\n",
       "      <td>0.696322</td>\n",
       "      <td>0.0</td>\n",
       "      <td>0.0</td>\n",
       "      <td>1.0</td>\n",
       "      <td>0.0</td>\n",
       "      <td>0.0</td>\n",
       "      <td>1.0</td>\n",
       "      <td>0.0</td>\n",
       "      <td>...</td>\n",
       "      <td>0.0</td>\n",
       "      <td>0.0</td>\n",
       "      <td>0.0</td>\n",
       "      <td>1.0</td>\n",
       "      <td>0.0</td>\n",
       "      <td>0.0</td>\n",
       "      <td>0.0</td>\n",
       "      <td>0.0</td>\n",
       "      <td>7.733</td>\n",
       "      <td>7.729830</td>\n",
       "    </tr>\n",
       "    <tr>\n",
       "      <th>12127</th>\n",
       "      <td>1.919221</td>\n",
       "      <td>-0.103306</td>\n",
       "      <td>0.696322</td>\n",
       "      <td>0.0</td>\n",
       "      <td>0.0</td>\n",
       "      <td>0.0</td>\n",
       "      <td>0.0</td>\n",
       "      <td>1.0</td>\n",
       "      <td>1.0</td>\n",
       "      <td>0.0</td>\n",
       "      <td>...</td>\n",
       "      <td>0.0</td>\n",
       "      <td>0.0</td>\n",
       "      <td>0.0</td>\n",
       "      <td>0.0</td>\n",
       "      <td>0.0</td>\n",
       "      <td>1.0</td>\n",
       "      <td>0.0</td>\n",
       "      <td>0.0</td>\n",
       "      <td>9.301</td>\n",
       "      <td>9.327891</td>\n",
       "    </tr>\n",
       "    <tr>\n",
       "      <th>12128</th>\n",
       "      <td>1.561782</td>\n",
       "      <td>0.458925</td>\n",
       "      <td>0.696322</td>\n",
       "      <td>0.0</td>\n",
       "      <td>0.0</td>\n",
       "      <td>0.0</td>\n",
       "      <td>1.0</td>\n",
       "      <td>0.0</td>\n",
       "      <td>0.0</td>\n",
       "      <td>0.0</td>\n",
       "      <td>...</td>\n",
       "      <td>0.0</td>\n",
       "      <td>0.0</td>\n",
       "      <td>0.0</td>\n",
       "      <td>1.0</td>\n",
       "      <td>0.0</td>\n",
       "      <td>0.0</td>\n",
       "      <td>0.0</td>\n",
       "      <td>0.0</td>\n",
       "      <td>9.587</td>\n",
       "      <td>9.541763</td>\n",
       "    </tr>\n",
       "  </tbody>\n",
       "</table>\n",
       "<p>12129 rows × 25 columns</p>\n",
       "</div>"
      ],
      "text/plain": [
       "          carat     depth     table  cut_1  cut_2  cut_3  cut_4  cut_5  \\\n",
       "0     -0.582852 -0.033027 -1.101269    0.0    0.0    0.0    0.0    1.0   \n",
       "1     -0.940291  0.177809  0.696322    0.0    0.0    0.0    1.0    0.0   \n",
       "2     -0.835162  0.037252 -1.101269    0.0    0.0    0.0    0.0    1.0   \n",
       "3     -0.477723 -0.103306 -0.651871    0.0    0.0    0.0    0.0    1.0   \n",
       "4     -0.162335  0.177809  1.145719    0.0    0.0    0.0    1.0    0.0   \n",
       "...         ...       ...       ...    ...    ...    ...    ...    ...   \n",
       "12124 -1.045420  0.248088 -0.202473    0.0    0.0    0.0    0.0    1.0   \n",
       "12125 -1.045420  0.248088 -2.000064    0.0    0.0    0.0    0.0    1.0   \n",
       "12126  0.026897 -0.946652  0.696322    0.0    0.0    1.0    0.0    0.0   \n",
       "12127  1.919221 -0.103306  0.696322    0.0    0.0    0.0    0.0    1.0   \n",
       "12128  1.561782  0.458925  0.696322    0.0    0.0    0.0    1.0    0.0   \n",
       "\n",
       "       color_1  color_2  ...  clarity_1  clarity_2  clarity_3  clarity_4  \\\n",
       "0          0.0      0.0  ...        0.0        0.0        1.0        0.0   \n",
       "1          0.0      0.0  ...        0.0        0.0        0.0        1.0   \n",
       "2          0.0      0.0  ...        0.0        0.0        1.0        0.0   \n",
       "3          0.0      0.0  ...        0.0        0.0        0.0        1.0   \n",
       "4          0.0      0.0  ...        0.0        0.0        1.0        0.0   \n",
       "...        ...      ...  ...        ...        ...        ...        ...   \n",
       "12124      0.0      0.0  ...        0.0        0.0        0.0        0.0   \n",
       "12125      0.0      0.0  ...        0.0        0.0        1.0        0.0   \n",
       "12126      1.0      0.0  ...        0.0        0.0        0.0        1.0   \n",
       "12127      1.0      0.0  ...        0.0        0.0        0.0        0.0   \n",
       "12128      0.0      0.0  ...        0.0        0.0        0.0        1.0   \n",
       "\n",
       "       clarity_5  clarity_6  clarity_7  clarity_8  price     Label  \n",
       "0            0.0        0.0        0.0        0.0  7.127  7.153554  \n",
       "1            0.0        0.0        0.0        0.0  6.809  6.703894  \n",
       "2            0.0        0.0        0.0        0.0  6.898  6.761102  \n",
       "3            0.0        0.0        0.0        0.0  7.523  7.557800  \n",
       "4            0.0        0.0        0.0        0.0  7.768  7.808232  \n",
       "...          ...        ...        ...        ...    ...       ...  \n",
       "12124        0.0        0.0        0.0        1.0  6.760  6.772535  \n",
       "12125        0.0        0.0        0.0        0.0  6.045  6.191409  \n",
       "12126        0.0        0.0        0.0        0.0  7.733  7.729830  \n",
       "12127        0.0        1.0        0.0        0.0  9.301  9.327891  \n",
       "12128        0.0        0.0        0.0        0.0  9.587  9.541763  \n",
       "\n",
       "[12129 rows x 25 columns]"
      ]
     },
     "execution_count": 273,
     "metadata": {},
     "output_type": "execute_result"
    }
   ],
   "source": [
    "predict_model(final_lightgbm)"
   ]
  },
  {
   "cell_type": "code",
   "execution_count": 274,
   "metadata": {},
   "outputs": [
    {
     "data": {
      "text/html": [
       "<div>\n",
       "<style scoped>\n",
       "    .dataframe tbody tr th:only-of-type {\n",
       "        vertical-align: middle;\n",
       "    }\n",
       "\n",
       "    .dataframe tbody tr th {\n",
       "        vertical-align: top;\n",
       "    }\n",
       "\n",
       "    .dataframe thead th {\n",
       "        text-align: right;\n",
       "    }\n",
       "</style>\n",
       "<table border=\"1\" class=\"dataframe\">\n",
       "  <thead>\n",
       "    <tr style=\"text-align: right;\">\n",
       "      <th></th>\n",
       "      <th>carat</th>\n",
       "      <th>cut</th>\n",
       "      <th>color</th>\n",
       "      <th>clarity</th>\n",
       "      <th>depth</th>\n",
       "      <th>table</th>\n",
       "      <th>Label</th>\n",
       "    </tr>\n",
       "  </thead>\n",
       "  <tbody>\n",
       "    <tr>\n",
       "      <th>0</th>\n",
       "      <td>-1.023184</td>\n",
       "      <td>5</td>\n",
       "      <td>2</td>\n",
       "      <td>3</td>\n",
       "      <td>-0.886269</td>\n",
       "      <td>0.235589</td>\n",
       "      <td>6.081875</td>\n",
       "    </tr>\n",
       "    <tr>\n",
       "      <th>1</th>\n",
       "      <td>0.941880</td>\n",
       "      <td>4</td>\n",
       "      <td>2</td>\n",
       "      <td>3</td>\n",
       "      <td>0.803891</td>\n",
       "      <td>1.130774</td>\n",
       "      <td>8.589802</td>\n",
       "    </tr>\n",
       "    <tr>\n",
       "      <th>2</th>\n",
       "      <td>1.838975</td>\n",
       "      <td>4</td>\n",
       "      <td>7</td>\n",
       "      <td>3</td>\n",
       "      <td>0.170081</td>\n",
       "      <td>0.683182</td>\n",
       "      <td>9.494557</td>\n",
       "    </tr>\n",
       "    <tr>\n",
       "      <th>3</th>\n",
       "      <td>-0.104730</td>\n",
       "      <td>4</td>\n",
       "      <td>7</td>\n",
       "      <td>2</td>\n",
       "      <td>-0.815845</td>\n",
       "      <td>-0.659595</td>\n",
       "      <td>7.842593</td>\n",
       "    </tr>\n",
       "    <tr>\n",
       "      <th>4</th>\n",
       "      <td>1.497225</td>\n",
       "      <td>1</td>\n",
       "      <td>6</td>\n",
       "      <td>2</td>\n",
       "      <td>2.141935</td>\n",
       "      <td>-1.107188</td>\n",
       "      <td>8.965113</td>\n",
       "    </tr>\n",
       "  </tbody>\n",
       "</table>\n",
       "</div>"
      ],
      "text/plain": [
       "      carat  cut  color  clarity     depth     table     Label\n",
       "0 -1.023184    5      2        3 -0.886269  0.235589  6.081875\n",
       "1  0.941880    4      2        3  0.803891  1.130774  8.589802\n",
       "2  1.838975    4      7        3  0.170081  0.683182  9.494557\n",
       "3 -0.104730    4      7        2 -0.815845 -0.659595  7.842593\n",
       "4  1.497225    1      6        2  2.141935 -1.107188  8.965113"
      ]
     },
     "execution_count": 274,
     "metadata": {},
     "output_type": "execute_result"
    }
   ],
   "source": [
    "unseen_predictions = predict_model(final_lightgbm, data=df_test)\n",
    "unseen_predictions.head()"
   ]
  },
  {
   "cell_type": "code",
   "execution_count": 275,
   "metadata": {},
   "outputs": [],
   "source": [
    "df_test2 ['price'] = unseen_predictions[\"Label\"]\n",
    "df_submission = df_test2[[\"id\", \"price\"]] "
   ]
  },
  {
   "cell_type": "code",
   "execution_count": 276,
   "metadata": {},
   "outputs": [
    {
     "data": {
      "text/html": [
       "<div>\n",
       "<style scoped>\n",
       "    .dataframe tbody tr th:only-of-type {\n",
       "        vertical-align: middle;\n",
       "    }\n",
       "\n",
       "    .dataframe tbody tr th {\n",
       "        vertical-align: top;\n",
       "    }\n",
       "\n",
       "    .dataframe thead th {\n",
       "        text-align: right;\n",
       "    }\n",
       "</style>\n",
       "<table border=\"1\" class=\"dataframe\">\n",
       "  <thead>\n",
       "    <tr style=\"text-align: right;\">\n",
       "      <th></th>\n",
       "      <th>id</th>\n",
       "      <th>price</th>\n",
       "    </tr>\n",
       "  </thead>\n",
       "  <tbody>\n",
       "    <tr>\n",
       "      <th>4319</th>\n",
       "      <td>4319</td>\n",
       "      <td>6.485118</td>\n",
       "    </tr>\n",
       "  </tbody>\n",
       "</table>\n",
       "</div>"
      ],
      "text/plain": [
       "        id     price\n",
       "4319  4319  6.485118"
      ]
     },
     "execution_count": 276,
     "metadata": {},
     "output_type": "execute_result"
    }
   ],
   "source": [
    "df_submission.sample()"
   ]
  },
  {
   "cell_type": "code",
   "execution_count": 278,
   "metadata": {},
   "outputs": [],
   "source": [
    "df_submission.to_csv(\"my_submission10.csv\", index=False)"
   ]
  },
  {
   "cell_type": "markdown",
   "metadata": {},
   "source": [
    "# Vtreat"
   ]
  },
  {
   "cell_type": "code",
   "execution_count": null,
   "metadata": {},
   "outputs": [],
   "source": [
    "unsupervised_transform = vtreat.UnsupervisedTreatment()\n",
    "data = unsupervised_transform.fit_transform(data)\n",
    "data_2 = unsupervised_transform.fit_transform(data_2)"
   ]
  },
  {
   "cell_type": "code",
   "execution_count": null,
   "metadata": {},
   "outputs": [],
   "source": []
  }
 ],
 "metadata": {
  "kernelspec": {
   "display_name": "Python 3 (ipykernel)",
   "language": "python",
   "name": "python3"
  },
  "language_info": {
   "codemirror_mode": {
    "name": "ipython",
    "version": 3
   },
   "file_extension": ".py",
   "mimetype": "text/x-python",
   "name": "python",
   "nbconvert_exporter": "python",
   "pygments_lexer": "ipython3",
   "version": "3.8.13"
  },
  "nbTranslate": {
   "displayLangs": [
    "en",
    "es"
   ],
   "hotkey": "alt-a",
   "langInMainMenu": true,
   "sourceLang": "es",
   "targetLang": "en",
   "useGoogleTranslate": true
  },
  "toc": {
   "base_numbering": 1,
   "nav_menu": {},
   "number_sections": true,
   "sideBar": true,
   "skip_h1_title": false,
   "title_cell": "Table of Contents",
   "title_sidebar": "Contents",
   "toc_cell": false,
   "toc_position": {},
   "toc_section_display": true,
   "toc_window_display": false
  }
 },
 "nbformat": 4,
 "nbformat_minor": 2
}
